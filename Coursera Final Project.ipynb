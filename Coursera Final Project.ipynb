{
    "nbformat_minor": 1, 
    "cells": [
        {
            "source": "# Coursera Applied Data Science Capstone\n\n", 
            "cell_type": "markdown", 
            "metadata": {
                "collapsed": true
            }
        }, 
        {
            "source": "## Business problem:\n", 
            "cell_type": "markdown", 
            "metadata": {}
        }, 
        {
            "source": "#### A famous Mexican jewelry called \"Mar\u00eda Barranco\" wants to grow their business and expand to other countries in South America. \n#### As Mexico city is a really big city and in there they are having pretty big sales, mostly because of the location of the store within the city, they think that they should go to really similar cities in other countries. Some of the countries the fancy store is targeting are; Bogota, Buenos Aires, Lima, Quito and Sao Paulo.\n#### Also, they are looking for a purely commercial place or neighborhood to put the store, were there is people passing frequently, close to big avenues, to fancy restaurants, and close to other high-class jewelry stores. \n#### Thus, the manager is looking for the new place to locate the store based on the criteria mentioned before. \n\n", 
            "cell_type": "markdown", 
            "metadata": {}
        }, 
        {
            "source": "##  Data section\n###  Data required to solve the problem:", 
            "cell_type": "markdown", 
            "metadata": {}
        }, 
        {
            "source": "#### To solve this problem, we will be using the Foursquare location data.\n#### The purpose of the manager is to look for the neighborhoods with the required characteristics in all the five already mention cities, but here we will be analyzing two cities, Mexico and Bogota. \n#### After that we will simply replicate the same steps for the other cities, compare the criteria and based on the achieved answers we\u2019ll have an idea of which of those cities is the one with the most similar neighborhood to the one the jewelry store is in Mexico City. \n#### So we will need the location data from Foursquare for both Mexico and Bogot\u00e1.\n", 
            "cell_type": "markdown", 
            "metadata": {}
        }, 
        {
            "execution_count": null, 
            "cell_type": "code", 
            "metadata": {}, 
            "outputs": [], 
            "source": ""
        }
    ], 
    "metadata": {
        "kernelspec": {
            "display_name": "Python 3.6", 
            "name": "python3", 
            "language": "python"
        }, 
        "language_info": {
            "mimetype": "text/x-python", 
            "nbconvert_exporter": "python", 
            "version": "3.6.8", 
            "name": "python", 
            "file_extension": ".py", 
            "pygments_lexer": "ipython3", 
            "codemirror_mode": {
                "version": 3, 
                "name": "ipython"
            }
        }
    }, 
    "nbformat": 4
}