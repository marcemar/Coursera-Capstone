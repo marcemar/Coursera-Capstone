{
    "nbformat_minor": 1, 
    "cells": [
        {
            "source": "## Importing libraries", 
            "cell_type": "markdown", 
            "metadata": {
                "collapsed": true
            }
        }, 
        {
            "execution_count": 2, 
            "cell_type": "code", 
            "metadata": {}, 
            "outputs": [
                {
                    "output_type": "stream", 
                    "name": "stdout", 
                    "text": "Solving environment: done\n\n## Package Plan ##\n\n  environment location: /opt/conda/envs/Python36\n\n  added / updated specs: \n    - geopy\n\n\nThe following packages will be downloaded:\n\n    package                    |            build\n    ---------------------------|-----------------\n    geographiclib-1.49         |             py_0          32 KB  conda-forge\n    openssl-1.1.1c             |       h516909a_0         2.1 MB  conda-forge\n    geopy-1.20.0               |             py_0          57 KB  conda-forge\n    certifi-2019.6.16          |           py36_1         149 KB  conda-forge\n    ca-certificates-2019.6.16  |       hecc5488_0         145 KB  conda-forge\n    ------------------------------------------------------------\n                                           Total:         2.5 MB\n\nThe following NEW packages will be INSTALLED:\n\n    geographiclib:   1.49-py_0         conda-forge\n    geopy:           1.20.0-py_0       conda-forge\n\nThe following packages will be UPDATED:\n\n    ca-certificates: 2019.5.15-0                   --> 2019.6.16-hecc5488_0 conda-forge\n    certifi:         2019.6.16-py36_1              --> 2019.6.16-py36_1     conda-forge\n\nThe following packages will be DOWNGRADED:\n\n    openssl:         1.1.1c-h7b6447c_1             --> 1.1.1c-h516909a_0    conda-forge\n\n\nDownloading and Extracting Packages\ngeographiclib-1.49   | 32 KB     | ##################################### | 100% \nopenssl-1.1.1c       | 2.1 MB    | ##################################### | 100% \ngeopy-1.20.0         | 57 KB     | ##################################### | 100% \ncertifi-2019.6.16    | 149 KB    | ##################################### | 100% \nca-certificates-2019 | 145 KB    | ##################################### | 100% \nPreparing transaction: done\nVerifying transaction: done\nExecuting transaction: done\nSolving environment: done\n\n## Package Plan ##\n\n  environment location: /opt/conda/envs/Python36\n\n  added / updated specs: \n    - folium=0.5.0\n\n\nThe following packages will be downloaded:\n\n    package                    |            build\n    ---------------------------|-----------------\n    folium-0.5.0               |             py_0          45 KB  conda-forge\n    branca-0.3.1               |             py_0          25 KB  conda-forge\n    altair-3.2.0               |           py36_0         770 KB  conda-forge\n    vincent-0.4.4              |             py_1          28 KB  conda-forge\n    ------------------------------------------------------------\n                                           Total:         868 KB\n\nThe following NEW packages will be INSTALLED:\n\n    altair:  3.2.0-py36_0 conda-forge\n    branca:  0.3.1-py_0   conda-forge\n    folium:  0.5.0-py_0   conda-forge\n    vincent: 0.4.4-py_1   conda-forge\n\n\nDownloading and Extracting Packages\nfolium-0.5.0         | 45 KB     | ##################################### | 100% \nbranca-0.3.1         | 25 KB     | ##################################### | 100% \naltair-3.2.0         | 770 KB    | ##################################### | 100% \nvincent-0.4.4        | 28 KB     | ##################################### | 100% \nPreparing transaction: done\nVerifying transaction: done\nExecuting transaction: done\nFolium installed\nLibraries imported.\n"
                }
            ], 
            "source": "import requests # library to handle requests\nimport pandas as pd # library for data analsysis\nimport numpy as np # library to handle data in a vectorized manner\nimport random # library for random number generation\n\n!conda install -c conda-forge geopy --yes \nfrom geopy.geocoders import Nominatim # module to convert an address into latitude and longitude values\n\n# libraries for displaying images\nfrom IPython.display import Image \nfrom IPython.core.display import HTML \n    \n# tranforming json file into a pandas dataframe library\nfrom pandas.io.json import json_normalize\n\n!conda install -c conda-forge folium=0.5.0 --yes\nimport folium # plotting library\n\nprint('Folium installed')\nprint('Libraries imported.')"
        }, 
        {
            "source": "### Define Fourtquare credentials", 
            "cell_type": "markdown", 
            "metadata": {}
        }, 
        {
            "execution_count": 3, 
            "cell_type": "code", 
            "metadata": {}, 
            "outputs": [
                {
                    "output_type": "stream", 
                    "name": "stdout", 
                    "text": "Your credentails:\nCLIENT_ID: WCK535NG04YZTNLZP3JNTI215B45UCMROLCZAO2DCWL4ZUQ2\nCLIENT_SECRET:1UVSHMRNYHQBMSEOGAL4GP3CACE24GL3LQ40DFVWADWGOY3Q\n"
                }
            ], 
            "source": "CLIENT_ID = 'WCK535NG04YZTNLZP3JNTI215B45UCMROLCZAO2DCWL4ZUQ2' # your Foursquare ID\nCLIENT_SECRET = '1UVSHMRNYHQBMSEOGAL4GP3CACE24GL3LQ40DFVWADWGOY3Q' # your Foursquare Secret\nVERSION = '20180604'\nLIMIT = 30\nprint('Your credentails:')\nprint('CLIENT_ID: ' + CLIENT_ID)\nprint('CLIENT_SECRET:' + CLIENT_SECRET)"
        }, 
        {
            "source": "#### Let's start converting the Mexico's jewerly neigborhood location in to latitud and longitud", 
            "cell_type": "markdown", 
            "metadata": {}
        }, 
        {
            "execution_count": 4, 
            "cell_type": "code", 
            "metadata": {}, 
            "outputs": [
                {
                    "output_type": "stream", 
                    "name": "stdout", 
                    "text": "19.43353 -99.190915\n"
                }
            ], 
            "source": "address = 'Polanco, Mexico DF'\n\ngeolocator = Nominatim(user_agent=\"foursquare_agent\")\nlocation = geolocator.geocode(address)\nlatitude = location.latitude\nlongitude = location.longitude\nprint(latitude, longitude)"
        }, 
        {
            "source": "#### Now, lets look for all the jewerlies that are located in that neighborhood", 
            "cell_type": "markdown", 
            "metadata": {}
        }, 
        {
            "execution_count": 5, 
            "cell_type": "code", 
            "metadata": {}, 
            "outputs": [
                {
                    "output_type": "stream", 
                    "name": "stdout", 
                    "text": "Jewelry .... OK!\n"
                }
            ], 
            "source": "search_query = 'Jewelry'\nradius = 1000\nprint(search_query + ' .... OK!')"
        }, 
        {
            "execution_count": 6, 
            "cell_type": "code", 
            "metadata": {}, 
            "outputs": [
                {
                    "execution_count": 6, 
                    "metadata": {}, 
                    "data": {
                        "text/plain": "'https://api.foursquare.com/v2/venues/search?client_id=WCK535NG04YZTNLZP3JNTI215B45UCMROLCZAO2DCWL4ZUQ2&client_secret=1UVSHMRNYHQBMSEOGAL4GP3CACE24GL3LQ40DFVWADWGOY3Q&ll=19.43353,-99.190915&v=20180604&query=Jewelry&radius=1000&limit=30'"
                    }, 
                    "output_type": "execute_result"
                }
            ], 
            "source": "url = 'https://api.foursquare.com/v2/venues/search?client_id={}&client_secret={}&ll={},{}&v={}&query={}&radius={}&limit={}'.format(CLIENT_ID, CLIENT_SECRET, latitude, longitude, VERSION, search_query, radius, LIMIT)\nurl"
        }, 
        {
            "source": "#### Now let's examine the results", 
            "cell_type": "markdown", 
            "metadata": {}
        }, 
        {
            "execution_count": 7, 
            "cell_type": "code", 
            "metadata": {}, 
            "outputs": [
                {
                    "execution_count": 7, 
                    "metadata": {}, 
                    "data": {
                        "text/plain": "{'meta': {'code': 200, 'requestId': '5d5ea5f7c53093002c56726c'},\n 'response': {'venues': [{'id': '55240db2498e4fee5d59611a',\n    'name': 'Floripa Jewelry',\n    'location': {'address': 'Pasaje Polanco Local 13 Av. Pdte Mazaryk 360 Col. Polanco',\n     'crossStreet': 'Julio Verne',\n     'lat': 19.431596755981445,\n     'lng': -99.1963119506836,\n     'labeledLatLngs': [{'label': 'display',\n       'lat': 19.431596755981445,\n       'lng': -99.1963119506836}],\n     'distance': 606,\n     'postalCode': '11560',\n     'cc': 'MX',\n     'city': 'Ciudad de M\u00e9xico',\n     'state': 'Distrito Federal',\n     'country': 'M\u00e9xico',\n     'formattedAddress': ['Pasaje Polanco Local 13 Av. Pdte Mazaryk 360 Col. Polanco (Julio Verne)',\n      '11560 Ciudad de M\u00e9xico, Distrito Federal',\n      'M\u00e9xico']},\n    'categories': [{'id': '4bf58dd8d48988d111951735',\n      'name': 'Jewelry Store',\n      'pluralName': 'Jewelry Stores',\n      'shortName': 'Jewelry',\n      'icon': {'prefix': 'https://ss3.4sqi.net/img/categories_v2/shops/jewelry_',\n       'suffix': '.png'},\n      'primary': True}],\n    'referralId': 'v-1566483959',\n    'hasPerk': False}]}}"
                    }, 
                    "output_type": "execute_result"
                }
            ], 
            "source": "results = requests.get(url).json()\nresults"
        }, 
        {
            "source": "#### Get relevant part of JSON and transform it into a *pandas* dataframe (eventought it is just one) ", 
            "cell_type": "markdown", 
            "metadata": {}
        }, 
        {
            "execution_count": 8, 
            "cell_type": "code", 
            "metadata": {}, 
            "outputs": [
                {
                    "execution_count": 8, 
                    "metadata": {}, 
                    "data": {
                        "text/html": "<div>\n<style scoped>\n    .dataframe tbody tr th:only-of-type {\n        vertical-align: middle;\n    }\n\n    .dataframe tbody tr th {\n        vertical-align: top;\n    }\n\n    .dataframe thead th {\n        text-align: right;\n    }\n</style>\n<table border=\"1\" class=\"dataframe\">\n  <thead>\n    <tr style=\"text-align: right;\">\n      <th></th>\n      <th>categories</th>\n      <th>hasPerk</th>\n      <th>id</th>\n      <th>location.address</th>\n      <th>location.cc</th>\n      <th>location.city</th>\n      <th>location.country</th>\n      <th>location.crossStreet</th>\n      <th>location.distance</th>\n      <th>location.formattedAddress</th>\n      <th>location.labeledLatLngs</th>\n      <th>location.lat</th>\n      <th>location.lng</th>\n      <th>location.postalCode</th>\n      <th>location.state</th>\n      <th>name</th>\n      <th>referralId</th>\n    </tr>\n  </thead>\n  <tbody>\n    <tr>\n      <th>0</th>\n      <td>[{'id': '4bf58dd8d48988d111951735', 'name': 'J...</td>\n      <td>False</td>\n      <td>55240db2498e4fee5d59611a</td>\n      <td>Pasaje Polanco Local 13 Av. Pdte Mazaryk 360 C...</td>\n      <td>MX</td>\n      <td>Ciudad de M\u00e9xico</td>\n      <td>M\u00e9xico</td>\n      <td>Julio Verne</td>\n      <td>606</td>\n      <td>[Pasaje Polanco Local 13 Av. Pdte Mazaryk 360 ...</td>\n      <td>[{'label': 'display', 'lat': 19.43159675598144...</td>\n      <td>19.431597</td>\n      <td>-99.196312</td>\n      <td>11560</td>\n      <td>Distrito Federal</td>\n      <td>Floripa Jewelry</td>\n      <td>v-1566483959</td>\n    </tr>\n  </tbody>\n</table>\n</div>", 
                        "text/plain": "                                          categories  hasPerk  \\\n0  [{'id': '4bf58dd8d48988d111951735', 'name': 'J...    False   \n\n                         id  \\\n0  55240db2498e4fee5d59611a   \n\n                                    location.address location.cc  \\\n0  Pasaje Polanco Local 13 Av. Pdte Mazaryk 360 C...          MX   \n\n      location.city location.country location.crossStreet  location.distance  \\\n0  Ciudad de M\u00e9xico           M\u00e9xico          Julio Verne                606   \n\n                           location.formattedAddress  \\\n0  [Pasaje Polanco Local 13 Av. Pdte Mazaryk 360 ...   \n\n                             location.labeledLatLngs  location.lat  \\\n0  [{'label': 'display', 'lat': 19.43159675598144...     19.431597   \n\n   location.lng location.postalCode    location.state             name  \\\n0    -99.196312               11560  Distrito Federal  Floripa Jewelry   \n\n     referralId  \n0  v-1566483959  "
                    }, 
                    "output_type": "execute_result"
                }
            ], 
            "source": "venues = results['response']['venues']\ndataframe = json_normalize(venues)\ndataframe.head()"
        }, 
        {
            "source": "##### It seems that the closest Jewerly in that Polanco's neighborhoos in the Floripa's jewelry.", 
            "cell_type": "markdown", 
            "metadata": {}
        }, 
        {
            "source": "#### Let's define the data frame with the information that is of interest", 
            "cell_type": "markdown", 
            "metadata": {}
        }, 
        {
            "execution_count": 9, 
            "cell_type": "code", 
            "metadata": {}, 
            "outputs": [
                {
                    "execution_count": 9, 
                    "metadata": {}, 
                    "data": {
                        "text/html": "<div>\n<style scoped>\n    .dataframe tbody tr th:only-of-type {\n        vertical-align: middle;\n    }\n\n    .dataframe tbody tr th {\n        vertical-align: top;\n    }\n\n    .dataframe thead th {\n        text-align: right;\n    }\n</style>\n<table border=\"1\" class=\"dataframe\">\n  <thead>\n    <tr style=\"text-align: right;\">\n      <th></th>\n      <th>name</th>\n      <th>categories</th>\n      <th>address</th>\n      <th>cc</th>\n      <th>city</th>\n      <th>country</th>\n      <th>crossStreet</th>\n      <th>distance</th>\n      <th>formattedAddress</th>\n      <th>labeledLatLngs</th>\n      <th>lat</th>\n      <th>lng</th>\n      <th>postalCode</th>\n      <th>state</th>\n      <th>id</th>\n    </tr>\n  </thead>\n  <tbody>\n    <tr>\n      <th>0</th>\n      <td>Floripa Jewelry</td>\n      <td>Jewelry Store</td>\n      <td>Pasaje Polanco Local 13 Av. Pdte Mazaryk 360 C...</td>\n      <td>MX</td>\n      <td>Ciudad de M\u00e9xico</td>\n      <td>M\u00e9xico</td>\n      <td>Julio Verne</td>\n      <td>606</td>\n      <td>[Pasaje Polanco Local 13 Av. Pdte Mazaryk 360 ...</td>\n      <td>[{'label': 'display', 'lat': 19.43159675598144...</td>\n      <td>19.431597</td>\n      <td>-99.196312</td>\n      <td>11560</td>\n      <td>Distrito Federal</td>\n      <td>55240db2498e4fee5d59611a</td>\n    </tr>\n  </tbody>\n</table>\n</div>", 
                        "text/plain": "              name     categories  \\\n0  Floripa Jewelry  Jewelry Store   \n\n                                             address  cc              city  \\\n0  Pasaje Polanco Local 13 Av. Pdte Mazaryk 360 C...  MX  Ciudad de M\u00e9xico   \n\n  country  crossStreet  distance  \\\n0  M\u00e9xico  Julio Verne       606   \n\n                                    formattedAddress  \\\n0  [Pasaje Polanco Local 13 Av. Pdte Mazaryk 360 ...   \n\n                                      labeledLatLngs        lat        lng  \\\n0  [{'label': 'display', 'lat': 19.43159675598144...  19.431597 -99.196312   \n\n  postalCode             state                        id  \n0      11560  Distrito Federal  55240db2498e4fee5d59611a  "
                    }, 
                    "output_type": "execute_result"
                }
            ], 
            "source": "filtered_columns = ['name', 'categories'] + [col for col in dataframe.columns if col.startswith('location.')] + ['id']\ndataframe_filtered = dataframe.loc[:, filtered_columns]\n\n# function that extracts the category of the venue\ndef get_category_type(row):\n    try:\n        categories_list = row['categories']\n    except:\n        categories_list = row['venue.categories']\n        \n    if len(categories_list) == 0:\n        return None\n    else:\n        return categories_list[0]['name']\n\n# filter the category for each row\ndataframe_filtered['categories'] = dataframe_filtered.apply(get_category_type, axis=1)\n\n# clean column names by keeping only last term\ndataframe_filtered.columns = [column.split('.')[-1] for column in dataframe_filtered.columns]\n\ndataframe_filtered"
        }, 
        {
            "source": "#### Now let's see what are other jewelries close to our location", 
            "cell_type": "markdown", 
            "metadata": {}
        }, 
        {
            "execution_count": 10, 
            "cell_type": "code", 
            "metadata": {}, 
            "outputs": [
                {
                    "execution_count": 10, 
                    "metadata": {}, 
                    "data": {
                        "text/plain": "0    Floripa Jewelry\nName: name, dtype: object"
                    }, 
                    "output_type": "execute_result"
                }
            ], 
            "source": "dataframe_filtered.name"
        }, 
        {
            "execution_count": 11, 
            "cell_type": "code", 
            "metadata": {
                "scrolled": true
            }, 
            "outputs": [
                {
                    "execution_count": 11, 
                    "metadata": {}, 
                    "data": {
                        "text/html": "<div style=\"width:100%;\"><div style=\"position:relative;width:100%;height:0;padding-bottom:60%;\"><iframe src=\"data:text/html;charset=utf-8;base64,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\" style=\"position:absolute;width:100%;height:100%;left:0;top:0;border:none !important;\" allowfullscreen webkitallowfullscreen mozallowfullscreen></iframe></div></div>", 
                        "text/plain": "<folium.folium.Map at 0x7f45e4b89630>"
                    }, 
                    "output_type": "execute_result"
                }
            ], 
            "source": "venues_map = folium.Map(location=[latitude, longitude], zoom_start=13) # generate map centred around the Conrad Hotel\n\n# add a green circle marker to represent the Floripa Jewelry\nfolium.features.CircleMarker(\n    [latitude, longitude],\n    radius=10,\n    color='green',\n    popup='Floripa Jewelry',\n    fill = True,\n    fill_color = 'green',\n    fill_opacity = 0.5\n).add_to(venues_map)\n\n# add the jewelries as purplee circle markers\nfor lat, lng, label in zip(dataframe_filtered.lat, dataframe_filtered.lng, dataframe_filtered.categories):\n    folium.features.CircleMarker(\n        [lat, lng],\n        radius=5,\n        color='purple',\n        popup=label,\n        fill = True,\n        fill_color='purple',\n        fill_opacity=0.5\n    ).add_to(venues_map)\n\n\nvenues_map"
        }, 
        {
            "source": "####  Let's explore the closest shopping centers", 
            "cell_type": "markdown", 
            "metadata": {}
        }, 
        {
            "source": "##### Centro Comercial Polanco", 
            "cell_type": "markdown", 
            "metadata": {}
        }, 
        {
            "execution_count": 12, 
            "cell_type": "code", 
            "metadata": {}, 
            "outputs": [
                {
                    "execution_count": 12, 
                    "metadata": {}, 
                    "data": {
                        "text/plain": "'https://api.foursquare.com/v2/venues/4fa2b148771687ceb6022502?client_id=WCK535NG04YZTNLZP3JNTI215B45UCMROLCZAO2DCWL4ZUQ2&client_secret=1UVSHMRNYHQBMSEOGAL4GP3CACE24GL3LQ40DFVWADWGOY3Q&v=20180604'"
                    }, 
                    "output_type": "execute_result"
                }
            ], 
            "source": "venue_id = '4fa2b148771687ceb6022502' # Centro comercial Polanco\nurl = 'https://api.foursquare.com/v2/venues/{}?client_id={}&client_secret={}&v={}'.format(venue_id, CLIENT_ID, CLIENT_SECRET, VERSION)\nurl"
        }, 
        {
            "execution_count": 13, 
            "cell_type": "code", 
            "metadata": {}, 
            "outputs": [
                {
                    "output_type": "stream", 
                    "name": "stdout", 
                    "text": "dict_keys(['id', 'name', 'contact', 'location', 'canonicalUrl', 'categories', 'verified', 'stats', 'likes', 'dislike', 'ok', 'rating', 'ratingColor', 'ratingSignals', 'beenHere', 'specials', 'photos', 'reasons', 'hereNow', 'createdAt', 'tips', 'shortUrl', 'timeZone', 'listed', 'popular', 'pageUpdates', 'inbox', 'attributes', 'bestPhoto', 'colors'])\n"
                }, 
                {
                    "execution_count": 13, 
                    "metadata": {}, 
                    "data": {
                        "text/plain": "{'id': '4fa2b148771687ceb6022502',\n 'name': 'Centro Comercial Polanco',\n 'contact': {},\n 'location': {'address': 'Blvd. Miguel de Cervantes Saavedra 397',\n  'crossStreet': 'Entre Presa Falc\u00f3n y Presa Angostura',\n  'lat': 19.44110762730647,\n  'lng': -99.20659748338925,\n  'labeledLatLngs': [{'label': 'display',\n    'lat': 19.44110762730647,\n    'lng': -99.20659748338925}],\n  'postalCode': '11500',\n  'cc': 'MX',\n  'city': 'Miguel Hidalgo',\n  'state': 'Distrito Federal',\n  'country': 'M\u00e9xico',\n  'formattedAddress': ['Blvd. Miguel de Cervantes Saavedra 397 (Entre Presa Falc\u00f3n y Presa Angostura)',\n   '11500 Miguel Hidalgo, Distrito Federal',\n   'M\u00e9xico']},\n 'canonicalUrl': 'https://foursquare.com/v/centro-comercial-polanco/4fa2b148771687ceb6022502',\n 'categories': [{'id': '4bf58dd8d48988d1fd941735',\n   'name': 'Shopping Mall',\n   'pluralName': 'Shopping Malls',\n   'shortName': 'Mall',\n   'icon': {'prefix': 'https://ss3.4sqi.net/img/categories_v2/shops/mall_',\n    'suffix': '.png'},\n   'primary': True}],\n 'verified': False,\n 'stats': {'tipCount': 49},\n 'likes': {'count': 559,\n  'groups': [{'type': 'others', 'count': 559, 'items': []}],\n  'summary': '559 Likes'},\n 'dislike': False,\n 'ok': False,\n 'rating': 7.6,\n 'ratingColor': 'C5DE35',\n 'ratingSignals': 787,\n 'beenHere': {'count': 0,\n  'unconfirmedCount': 0,\n  'marked': False,\n  'lastCheckinExpiredAt': 0},\n 'specials': {'count': 0, 'items': []},\n 'photos': {'count': 254,\n  'groups': [{'type': 'checkin',\n    'name': \"Friends' check-in photos\",\n    'count': 0,\n    'items': []},\n   {'type': 'venue',\n    'name': 'Venue photos',\n    'count': 254,\n    'items': [{'id': '51d8af2c498e43555585e263',\n      'createdAt': 1373155116,\n      'source': {'name': 'Foursquare for Android',\n       'url': 'https://foursquare.com/download/#/android'},\n      'prefix': 'https://fastly.4sqi.net/img/general/',\n      'suffix': '/1524589_EITnGILG-TyPdu-mKBQCfCHfK3Ga5KGocjhomll8Qi0.jpg',\n      'width': 960,\n      'height': 540,\n      'user': {'id': '1524589',\n       'firstName': 'H 3 \u00cf N \u00ae \u00cf \u00a9 \u00b5',\n       'lastName': '(SU6)',\n       'gender': 'male',\n       'photo': {'prefix': 'https://fastly.4sqi.net/img/user/',\n        'suffix': '/1524589_iGDVA7ox_4KJKvL7haiQIesqAwOT1VaXIbT4Saln8hP31Ten6mt7L6HH7tEjitREugznGk8qd.jpg'}},\n      'visibility': 'public'}]}],\n  'summary': '0 photos'},\n 'reasons': {'count': 1,\n  'items': [{'summary': 'Lots of people like this place',\n    'type': 'general',\n    'reasonName': 'rawLikesReason'}]},\n 'hereNow': {'count': 0, 'summary': 'Nobody here', 'groups': []},\n 'createdAt': 1336062280,\n 'tips': {'count': 49,\n  'groups': [{'type': 'others',\n    'name': 'All tips',\n    'count': 49,\n    'items': [{'id': '50d4e096e4b0e2532edb4c21',\n      'createdAt': 1356128406,\n      'text': 'Su \u00e1rea de fast food es como estar en L.A.! :)',\n      'type': 'user',\n      'canonicalUrl': 'https://foursquare.com/item/50d4e096e4b0e2532edb4c21',\n      'lang': 'es',\n      'likes': {'count': 10,\n       'groups': [{'type': 'others', 'count': 10, 'items': []}],\n       'summary': '10 likes'},\n      'logView': True,\n      'agreeCount': 10,\n      'disagreeCount': 0,\n      'todo': {'count': 1},\n      'user': {'id': '1186314',\n       'firstName': 'Ale',\n       'lastName': 'Alvarez',\n       'gender': 'female',\n       'photo': {'prefix': 'https://fastly.4sqi.net/img/user/',\n        'suffix': '/1186314-EKBW3QNMRETLPQZI.jpg'}}}]}]},\n 'shortUrl': 'http://4sq.com/Iy3qjq',\n 'timeZone': 'America/Mexico_City',\n 'listed': {'count': 16,\n  'groups': [{'type': 'others',\n    'name': 'Lists from other people',\n    'count': 16,\n    'items': [{'id': '511e9bfde4b0f2db5c7c195e',\n      'name': 'Shopping',\n      'description': '',\n      'type': 'others',\n      'user': {'id': '48329512',\n       'firstName': '48 hrs',\n       'lastName': 'Azap',\n       'gender': 'male',\n       'photo': {'prefix': 'https://fastly.4sqi.net/img/user/',\n        'suffix': '/blank_boy.png',\n        'default': True}},\n      'editable': False,\n      'public': True,\n      'collaborative': False,\n      'url': '/user/48329512/list/shopping',\n      'canonicalUrl': 'https://foursquare.com/user/48329512/list/shopping',\n      'createdAt': 1360960509,\n      'updatedAt': 1363159759,\n      'photo': {'id': '4e838e6c8231976d61f88252',\n       'createdAt': 1317244524,\n       'prefix': 'https://fastly.4sqi.net/img/general/',\n       'suffix': '/PNN1ZM20W4VR5BMZFEYTRDYV0BI5A04GPNNJ4TJ5IDYH5J1R.jpg',\n       'width': 537,\n       'height': 720,\n       'user': {'id': '7307117',\n        'firstName': 'Christian',\n        'lastName': 'Salcedo',\n        'gender': 'male',\n        'photo': {'prefix': 'https://fastly.4sqi.net/img/user/',\n         'suffix': '/PSDDGWSQXQYPW0KR.jpg'}},\n       'visibility': 'public'},\n      'followers': {'count': 1},\n      'listItems': {'count': 22,\n       'items': [{'id': 'v4fa2b148771687ceb6022502',\n         'createdAt': 1361559929,\n         'photo': {'id': '51224c06e4b01ed298f49cb4',\n          'createdAt': 1361202182,\n          'prefix': 'https://fastly.4sqi.net/img/general/',\n          'suffix': '/30495008_IVB_PdQ_wA2tbmSk_mDXmkCEAe9Ga-NGnp_OXn0wbgg.jpg',\n          'width': 720,\n          'height': 960,\n          'user': {'id': '30495008',\n           'firstName': 'Fernanda',\n           'lastName': 'Carreon',\n           'gender': 'female',\n           'photo': {'prefix': 'https://fastly.4sqi.net/img/user/',\n            'suffix': '/KAVU033O34X5E3YA.jpg'}},\n          'visibility': 'public'}}]}},\n     {'id': '521f4f6a11d2dae03a659c3a',\n      'name': 'DF',\n      'description': '',\n      'type': 'others',\n      'user': {'id': '11186318',\n       'firstName': 'Yuri',\n       'lastName': 'Garcia',\n       'gender': 'female',\n       'photo': {'prefix': 'https://fastly.4sqi.net/img/user/',\n        'suffix': '/11186318-H2LCEAEX2TJ1LMXC.jpg'}},\n      'editable': False,\n      'public': True,\n      'collaborative': False,\n      'url': '/yurigarcia28/list/df',\n      'canonicalUrl': 'https://foursquare.com/yurigarcia28/list/df',\n      'createdAt': 1377783658,\n      'updatedAt': 1422405123,\n      'photo': {'id': '501b2638e4b03e6bfb80596e',\n       'createdAt': 1343956536,\n       'prefix': 'https://fastly.4sqi.net/img/general/',\n       'suffix': '/V3gnkabrVPhhVMkPfyrINASRZVHThnl9Ejqc8GQ28yY.jpg',\n       'width': 405,\n       'height': 540,\n       'user': {'id': '11352819',\n        'firstName': 'Andrea',\n        'lastName': 'Mereghetti',\n        'gender': 'male',\n        'photo': {'prefix': 'https://fastly.4sqi.net/img/user/',\n         'suffix': '/BLFC0KD020XS1KYX.jpg'}},\n       'visibility': 'public'},\n      'followers': {'count': 1},\n      'listItems': {'count': 200,\n       'items': [{'id': 'v4fa2b148771687ceb6022502',\n         'createdAt': 1405900964}]}},\n     {'id': '5212985411d27053d61a2879',\n      'name': 'Ciudad de M\u00e9xico, D. F., M\u00e9xico',\n      'description': 'Cultura, divers\u00e3o, arte, m\u00fasica e gastronomia! :)',\n      'type': 'others',\n      'user': {'id': '8586958',\n       'firstName': 'Vanessa',\n       'lastName': 'Rocha',\n       'gender': 'female',\n       'photo': {'prefix': 'https://fastly.4sqi.net/img/user/',\n        'suffix': '/8586958-FV1OC44JAGGZB1FG.jpg'}},\n      'editable': False,\n      'public': True,\n      'collaborative': False,\n      'url': '/rochavanessa/list/ciudad-de-m%C3%A9xico-d-f-m%C3%A9xico',\n      'canonicalUrl': 'https://foursquare.com/rochavanessa/list/ciudad-de-m%C3%A9xico-d-f-m%C3%A9xico',\n      'createdAt': 1376950356,\n      'updatedAt': 1404578577,\n      'photo': {'id': '50ebd4f3e4b03aa7e44973d7',\n       'createdAt': 1357632755,\n       'prefix': 'https://fastly.4sqi.net/img/general/',\n       'suffix': '/38418345_V4kcmVD7KIR9-fQwunqTnz-UYkV8nmFqDogodHbN8WY.jpg',\n       'width': 530,\n       'height': 530,\n       'user': {'id': '38418345',\n        'firstName': 'Carlos Miguel',\n        'lastName': 'Lozano Robles',\n        'gender': 'male',\n        'photo': {'prefix': 'https://fastly.4sqi.net/img/user/',\n         'suffix': '/OC2O0ZHBP0EYGSLF.jpg'}},\n       'visibility': 'public'},\n      'followers': {'count': 3},\n      'listItems': {'count': 199,\n       'items': [{'id': 'v4fa2b148771687ceb6022502',\n         'createdAt': 1379371444}]}},\n     {'id': '5112a718e4b0453eacc51898',\n      'name': '+10',\n      'description': 'Shop',\n      'type': 'others',\n      'user': {'id': '24929504',\n       'firstName': 'Pepe',\n       'lastName': 'Chanona',\n       'gender': 'male',\n       'photo': {'prefix': 'https://fastly.4sqi.net/img/user/',\n        'suffix': '/24929504_GnmuJ-YW__VvXu9A34SQexv-NqUp52OaCqUrkDtQ4dVcj2tb4wtm0cmFJEu9Y2sgw4NpLsyoB.jpg'}},\n      'editable': False,\n      'public': True,\n      'collaborative': False,\n      'url': '/pepechanona/list/10',\n      'canonicalUrl': 'https://foursquare.com/pepechanona/list/10',\n      'createdAt': 1360176920,\n      'updatedAt': 1422192219,\n      'followers': {'count': 0},\n      'listItems': {'count': 30,\n       'items': [{'id': 'v4fa2b148771687ceb6022502',\n         'createdAt': 1360537178}]}}]}]},\n 'popular': {'isOpen': False,\n  'isLocalHoliday': False,\n  'timeframes': [{'days': 'Today',\n    'includesToday': True,\n    'open': [{'renderedTime': '1:00 PM\u20139:00 PM'}],\n    'segments': []},\n   {'days': 'Fri',\n    'open': [{'renderedTime': '1:00 PM\u20139:00 PM'}],\n    'segments': []},\n   {'days': 'Sat',\n    'open': [{'renderedTime': '10:00 AM\u20139:00 PM'}],\n    'segments': []},\n   {'days': 'Sun',\n    'open': [{'renderedTime': '11:00 AM\u20139:00 PM'}],\n    'segments': []},\n   {'days': 'Mon', 'open': [{'renderedTime': 'Noon\u20139:00 PM'}], 'segments': []},\n   {'days': 'Tue\u2013Wed',\n    'open': [{'renderedTime': '1:00 PM\u20139:00 PM'}],\n    'segments': []}]},\n 'pageUpdates': {'count': 0, 'items': []},\n 'inbox': {'count': 0, 'items': []},\n 'attributes': {'groups': [{'type': 'payments',\n    'name': 'Credit Cards',\n    'summary': 'No Credit Cards',\n    'count': 5,\n    'items': [{'displayName': 'Credit Cards', 'displayValue': 'No'}]}]},\n 'bestPhoto': {'id': '51d8af2c498e43555585e263',\n  'createdAt': 1373155116,\n  'source': {'name': 'Foursquare for Android',\n   'url': 'https://foursquare.com/download/#/android'},\n  'prefix': 'https://fastly.4sqi.net/img/general/',\n  'suffix': '/1524589_EITnGILG-TyPdu-mKBQCfCHfK3Ga5KGocjhomll8Qi0.jpg',\n  'width': 960,\n  'height': 540,\n  'visibility': 'public'},\n 'colors': {'highlightColor': {'photoId': '51d8af2c498e43555585e263',\n   'value': -14669784},\n  'highlightTextColor': {'photoId': '51d8af2c498e43555585e263', 'value': -1},\n  'algoVersion': 3}}"
                    }, 
                    "output_type": "execute_result"
                }
            ], 
            "source": "result = requests.get(url).json()\nprint(result['response']['venue'].keys())\nresult['response']['venue']"
        }, 
        {
            "source": "#### Get the mall's overall rating", 
            "cell_type": "markdown", 
            "metadata": {}
        }, 
        {
            "execution_count": 14, 
            "cell_type": "code", 
            "metadata": {}, 
            "outputs": [
                {
                    "output_type": "stream", 
                    "name": "stdout", 
                    "text": "7.6\n"
                }
            ], 
            "source": "try:\n    print(result['response']['venue']['rating'])\nexcept:\n    print('This venue has no ratinmgs.')"
        }, 
        {
            "source": "##### Let's see if we can find a place with a better rating", 
            "cell_type": "markdown", 
            "metadata": {}
        }, 
        {
            "execution_count": 15, 
            "cell_type": "code", 
            "metadata": {}, 
            "outputs": [
                {
                    "output_type": "stream", 
                    "name": "stdout", 
                    "text": "9.2\n"
                }
            ], 
            "source": "venue_id = '4b74b161f964a520c7ec2de3' # ID of Palacio del Hierro\nurl = 'https://api.foursquare.com/v2/venues/{}?client_id={}&client_secret={}&v={}'.format(venue_id, CLIENT_ID, CLIENT_SECRET, VERSION)\n\nresult = requests.get(url).json()\ntry:\n    print(result['response']['venue']['rating'])\nexcept:\n    print('This venue has not been rated yet.')"
        }, 
        {
            "source": "##### That is a really good rating. We'll keep this one. Let's analyze it more in detail:", 
            "cell_type": "markdown", 
            "metadata": {}
        }, 
        {
            "source": "##### Lets get the number of tips it has on Foursquare", 
            "cell_type": "markdown", 
            "metadata": {}
        }, 
        {
            "execution_count": 16, 
            "cell_type": "code", 
            "metadata": {}, 
            "outputs": [
                {
                    "execution_count": 16, 
                    "metadata": {}, 
                    "data": {
                        "text/plain": "326"
                    }, 
                    "output_type": "execute_result"
                }
            ], 
            "source": "result['response']['venue']['tips']['count']"
        }, 
        {
            "source": "#### Let's get the venues tips\n##### The idea would be to get all the tips but as we have a personal account it would not allow us...", 
            "cell_type": "markdown", 
            "metadata": {}
        }, 
        {
            "execution_count": 17, 
            "cell_type": "code", 
            "metadata": {}, 
            "outputs": [
                {
                    "execution_count": 17, 
                    "metadata": {}, 
                    "data": {
                        "text/plain": "{'meta': {'code': 200, 'requestId': '5d5ea60da197930038cb4aea'},\n 'response': {'tips': {'count': 326,\n   'items': [{'id': '57ba7110498e347034f6e3da',\n     'createdAt': 1471836432,\n     'text': 'No existe Palacio que se le compare, es verdaderamente el Palacio de los Palacios y uno de mis lugares favoritos en la ciudad, desde la@planta baja hasta el \u00faltimo piso no hay m\u00e1s que cosas para gozar',\n     'type': 'user',\n     'canonicalUrl': 'https://foursquare.com/item/57ba7110498e347034f6e3da',\n     'photo': {'id': '57ba7117498e6b1fc265fec2',\n      'createdAt': 1471836439,\n      'source': {'name': 'Foursquare for iOS',\n       'url': 'https://foursquare.com/download/#/iphone'},\n      'prefix': 'https://fastly.4sqi.net/img/general/',\n      'suffix': '/89714154_loqiGMGZ8Fp67jDpkOkzGk_OcuE7FJr9hDNHLLxToq8.jpg',\n      'width': 1920,\n      'height': 1440,\n      'visibility': 'public'},\n     'photourl': 'https://fastly.4sqi.net/img/general/original/89714154_loqiGMGZ8Fp67jDpkOkzGk_OcuE7FJr9hDNHLLxToq8.jpg',\n     'lang': 'es',\n     'likes': {'count': 0, 'groups': []},\n     'logView': True,\n     'agreeCount': 13,\n     'disagreeCount': 0,\n     'lastVoteText': 'Upvoted 3 weeks ago',\n     'lastUpvoteTimestamp': 1564423394,\n     'todo': {'count': 0},\n     'user': {'id': '89714154',\n      'firstName': 'Gibr\u00e1n',\n      'lastName': 'Flores',\n      'gender': 'male',\n      'photo': {'prefix': 'https://fastly.4sqi.net/img/user/',\n       'suffix': '/89714154-3OGO1MSSAQBDGBZG.jpg'}},\n     'authorInteractionType': 'liked'}]}}}"
                    }, 
                    "output_type": "execute_result"
                }
            ], 
            "source": "limit = 2\nurl = 'https://api.foursquare.com/v2/venues/{}/tips?client_id={}&client_secret={}&v={}&limit={}'.format(venue_id, CLIENT_ID, CLIENT_SECRET, VERSION, limit)\n\nresults = requests.get(url).json()\nresults\n"
        }, 
        {
            "execution_count": 18, 
            "cell_type": "code", 
            "metadata": {}, 
            "outputs": [
                {
                    "execution_count": 18, 
                    "metadata": {}, 
                    "data": {
                        "text/plain": "dict_keys(['id', 'createdAt', 'text', 'type', 'canonicalUrl', 'photo', 'photourl', 'lang', 'likes', 'logView', 'agreeCount', 'disagreeCount', 'lastVoteText', 'lastUpvoteTimestamp', 'todo', 'user', 'authorInteractionType'])"
                    }, 
                    "output_type": "execute_result"
                }
            ], 
            "source": "tips = results['response']['tips']['items']\n\ntip = results['response']['tips']['items'][0]\ntip.keys()"
        }, 
        {
            "source": "#### Now, let's fix it in a  data frame", 
            "cell_type": "markdown", 
            "metadata": {}
        }, 
        {
            "execution_count": 19, 
            "cell_type": "code", 
            "metadata": {}, 
            "outputs": [
                {
                    "execution_count": 19, 
                    "metadata": {}, 
                    "data": {
                        "text/html": "<div>\n<style scoped>\n    .dataframe tbody tr th:only-of-type {\n        vertical-align: middle;\n    }\n\n    .dataframe tbody tr th {\n        vertical-align: top;\n    }\n\n    .dataframe thead th {\n        text-align: right;\n    }\n</style>\n<table border=\"1\" class=\"dataframe\">\n  <thead>\n    <tr style=\"text-align: right;\">\n      <th></th>\n      <th>text</th>\n      <th>agreeCount</th>\n      <th>disagreeCount</th>\n      <th>id</th>\n      <th>user.firstName</th>\n      <th>user.lastName</th>\n      <th>user.gender</th>\n      <th>user.id</th>\n    </tr>\n  </thead>\n  <tbody>\n    <tr>\n      <th>0</th>\n      <td>No existe Palacio que se le compare, es verdaderamente el Palacio de los Palacios y uno de mis lugares favoritos en la ciudad, desde la@planta baja hasta el \u00faltimo piso no hay m\u00e1s que cosas para gozar</td>\n      <td>13</td>\n      <td>0</td>\n      <td>57ba7110498e347034f6e3da</td>\n      <td>Gibr\u00e1n</td>\n      <td>Flores</td>\n      <td>male</td>\n      <td>89714154</td>\n    </tr>\n  </tbody>\n</table>\n</div>", 
                        "text/plain": "                                                                                                                                                                                                       text  \\\n0  No existe Palacio que se le compare, es verdaderamente el Palacio de los Palacios y uno de mis lugares favoritos en la ciudad, desde la@planta baja hasta el \u00faltimo piso no hay m\u00e1s que cosas para gozar   \n\n   agreeCount  disagreeCount                        id user.firstName  \\\n0  13          0              57ba7110498e347034f6e3da  Gibr\u00e1n          \n\n  user.lastName user.gender   user.id  \n0  Flores        male        89714154  "
                    }, 
                    "output_type": "execute_result"
                }
            ], 
            "source": "pd.set_option('display.max_colwidth', -1)\n\ntips_df = json_normalize(tips) \n\nfiltered_columns = ['text', 'agreeCount', 'disagreeCount', 'id', 'user.firstName', 'user.lastName', 'user.gender', 'user.id']\ntips_filtered = tips_df.loc[:, filtered_columns]\n\ntips_filtered"
        }, 
        {
            "source": "### Next step is do the analysis for Bogota in order to compare the two neighborhoods.", 
            "cell_type": "markdown", 
            "metadata": {}
        }, 
        {
            "execution_count": 20, 
            "cell_type": "code", 
            "metadata": {}, 
            "outputs": [
                {
                    "output_type": "stream", 
                    "name": "stdout", 
                    "text": "4.59808 -74.0760439\n"
                }
            ], 
            "source": "address2 = 'Bogota'\n\ngeolocator2 = Nominatim(user_agent=\"foursquare_agent\")\nlocation2 = geolocator2.geocode(address2)\nlatitude2 = location2.latitude\nlongitude2 = location2.longitude\nprint(latitude2, longitude2)"
        }, 
        {
            "source": "#### Now, lets look for all the jewerlies that are located in the city", 
            "cell_type": "markdown", 
            "metadata": {}
        }, 
        {
            "execution_count": 21, 
            "cell_type": "code", 
            "metadata": {}, 
            "outputs": [
                {
                    "output_type": "stream", 
                    "name": "stdout", 
                    "text": "Jewelry .... OK!\n"
                }
            ], 
            "source": "search_query2 = 'Joyeria'\nradius = 1000\nprint(search_query + ' .... OK!')"
        }, 
        {
            "execution_count": 22, 
            "cell_type": "code", 
            "metadata": {}, 
            "outputs": [
                {
                    "execution_count": 22, 
                    "metadata": {}, 
                    "data": {
                        "text/plain": "'https://api.foursquare.com/v2/venues/search?client_id=WCK535NG04YZTNLZP3JNTI215B45UCMROLCZAO2DCWL4ZUQ2&client_secret=1UVSHMRNYHQBMSEOGAL4GP3CACE24GL3LQ40DFVWADWGOY3Q&ll=4.59808,-74.0760439&v=20180604&query=Joyeria&radius=1000&limit=30'"
                    }, 
                    "output_type": "execute_result"
                }
            ], 
            "source": "url2 = 'https://api.foursquare.com/v2/venues/search?client_id={}&client_secret={}&ll={},{}&v={}&query={}&radius={}&limit={}'.format(CLIENT_ID, CLIENT_SECRET, latitude2, longitude2, VERSION, search_query2, radius, LIMIT)\nurl2"
        }, 
        {
            "source": "#### Now let's examine the results in Bogota", 
            "cell_type": "markdown", 
            "metadata": {}
        }, 
        {
            "execution_count": 23, 
            "cell_type": "code", 
            "metadata": {}, 
            "outputs": [
                {
                    "execution_count": 23, 
                    "metadata": {}, 
                    "data": {
                        "text/plain": "{'meta': {'code': 200, 'requestId': '5d5ea620c53093002c578cde'},\n 'response': {'venues': [{'id': '4ee6156b9adf398201023461',\n    'name': 'Joyer\u00eda Citizen',\n    'location': {'lat': 4.598725789365495,\n     'lng': -74.07381194311554,\n     'labeledLatLngs': [{'label': 'display',\n       'lat': 4.598725789365495,\n       'lng': -74.07381194311554}],\n     'distance': 257,\n     'cc': 'CO',\n     'country': 'Colombia',\n     'formattedAddress': ['Colombia']},\n    'categories': [{'id': '4bf58dd8d48988d111951735',\n      'name': 'Jewelry Store',\n      'pluralName': 'Jewelry Stores',\n      'shortName': 'Jewelry',\n      'icon': {'prefix': 'https://ss3.4sqi.net/img/categories_v2/shops/jewelry_',\n       'suffix': '.png'},\n      'primary': True}],\n    'referralId': 'v-1566484000',\n    'hasPerk': False},\n   {'id': '50c3a0ace4b047e9d431fb3b',\n    'name': 'Joyeria Centro Seiko',\n    'location': {'address': 'Cra 15 calle 91',\n     'lat': 4.599064,\n     'lng': -74.073684,\n     'labeledLatLngs': [{'label': 'display',\n       'lat': 4.599064,\n       'lng': -74.073684}],\n     'distance': 283,\n     'cc': 'CO',\n     'country': 'Colombia',\n     'formattedAddress': ['Cra 15 calle 91', 'Colombia']},\n    'categories': [{'id': '4bf58dd8d48988d111951735',\n      'name': 'Jewelry Store',\n      'pluralName': 'Jewelry Stores',\n      'shortName': 'Jewelry',\n      'icon': {'prefix': 'https://ss3.4sqi.net/img/categories_v2/shops/jewelry_',\n       'suffix': '.png'},\n      'primary': True}],\n    'referralId': 'v-1566484000',\n    'hasPerk': False},\n   {'id': '4f4e5c004fc64d33baa0b149',\n    'name': 'Joyer\u00eda Nivada',\n    'location': {'address': 'Calle 12b  6 58',\n     'lat': 4.5996960724789,\n     'lng': -74.07397627830505,\n     'labeledLatLngs': [{'label': 'display',\n       'lat': 4.5996960724789,\n       'lng': -74.07397627830505}],\n     'distance': 291,\n     'postalCode': '051',\n     'cc': 'CO',\n     'city': 'Distrito Capital, Bogot\u00e1',\n     'country': 'Colombia',\n     'formattedAddress': ['Calle 12b  6 58',\n      'Distrito Capital, Bogot\u00e1',\n      'Colombia']},\n    'categories': [{'id': '4bf58dd8d48988d1ff941735',\n      'name': 'Miscellaneous Shop',\n      'pluralName': 'Miscellaneous Shops',\n      'shortName': 'Shop',\n      'icon': {'prefix': 'https://ss3.4sqi.net/img/categories_v2/shops/default_',\n       'suffix': '.png'},\n      'primary': True}],\n    'referralId': 'v-1566484000',\n    'hasPerk': False},\n   {'id': '55fb03e1498e3d56f082a435',\n    'name': 'Joyer\u00eda Roma Relojer\u00eda',\n    'location': {'address': 'Calle 12b No. 6-57',\n     'crossStreet': 'Centro',\n     'lat': 4.599928171829357,\n     'lng': -74.07405860862978,\n     'labeledLatLngs': [{'label': 'display',\n       'lat': 4.599928171829357,\n       'lng': -74.07405860862978}],\n     'distance': 301,\n     'cc': 'CO',\n     'city': 'Candelaria',\n     'state': 'Bogot\u00e1 D.C.',\n     'country': 'Colombia',\n     'formattedAddress': ['Calle 12b No. 6-57 (Centro)',\n      'Candelaria, Bogot\u00e1 D.C.',\n      'Colombia']},\n    'categories': [{'id': '4bf58dd8d48988d111951735',\n      'name': 'Jewelry Store',\n      'pluralName': 'Jewelry Stores',\n      'shortName': 'Jewelry',\n      'icon': {'prefix': 'https://ss3.4sqi.net/img/categories_v2/shops/jewelry_',\n       'suffix': '.png'},\n      'primary': True}],\n    'referralId': 'v-1566484000',\n    'hasPerk': False},\n   {'id': '52597395498e80ed5246b635',\n    'name': 'Joyer\u00eda Maria Hel',\n    'location': {'address': 'Calle 13 # 6 - 03',\n     'lat': 4.599854469299316,\n     'lng': -74.07321166992188,\n     'labeledLatLngs': [{'label': 'display',\n       'lat': 4.599854469299316,\n       'lng': -74.07321166992188}],\n     'distance': 371,\n     'cc': 'CO',\n     'country': 'Colombia',\n     'formattedAddress': ['Calle 13 # 6 - 03', 'Colombia']},\n    'categories': [{'id': '4bf58dd8d48988d111951735',\n      'name': 'Jewelry Store',\n      'pluralName': 'Jewelry Stores',\n      'shortName': 'Jewelry',\n      'icon': {'prefix': 'https://ss3.4sqi.net/img/categories_v2/shops/jewelry_',\n       'suffix': '.png'},\n      'primary': True}],\n    'referralId': 'v-1566484000',\n    'hasPerk': False},\n   {'id': '50ba3782e4b05d0a8e3254eb',\n    'name': 'Joyeria Candelaria',\n    'location': {'lat': 4.601404,\n     'lng': -74.075108,\n     'labeledLatLngs': [{'label': 'display',\n       'lat': 4.601404,\n       'lng': -74.075108}],\n     'distance': 384,\n     'cc': 'CO',\n     'country': 'Colombia',\n     'formattedAddress': ['Colombia']},\n    'categories': [{'id': '4bf58dd8d48988d111951735',\n      'name': 'Jewelry Store',\n      'pluralName': 'Jewelry Stores',\n      'shortName': 'Jewelry',\n      'icon': {'prefix': 'https://ss3.4sqi.net/img/categories_v2/shops/jewelry_',\n       'suffix': '.png'},\n      'primary': True}],\n    'referralId': 'v-1566484000',\n    'hasPerk': False},\n   {'id': '5307d36d498e227868d2f1de',\n    'name': 'Arte joyeria',\n    'location': {'address': 'Carrera 6 No.12-25',\n     'lat': 4.598859,\n     'lng': -74.073704,\n     'labeledLatLngs': [{'label': 'display',\n       'lat': 4.598859,\n       'lng': -74.073704}],\n     'distance': 273,\n     'cc': 'CO',\n     'country': 'Colombia',\n     'formattedAddress': ['Carrera 6 No.12-25', 'Colombia']},\n    'categories': [{'id': '4bf58dd8d48988d111951735',\n      'name': 'Jewelry Store',\n      'pluralName': 'Jewelry Stores',\n      'shortName': 'Jewelry',\n      'icon': {'prefix': 'https://ss3.4sqi.net/img/categories_v2/shops/jewelry_',\n       'suffix': '.png'},\n      'primary': True}],\n    'referralId': 'v-1566484000',\n    'hasPerk': False},\n   {'id': '5187f632498ef92261ed36bc',\n    'name': 'Joyeria Continental',\n    'location': {'lat': 4.605955600738525,\n     'lng': -74.07321166992188,\n     'labeledLatLngs': [{'label': 'display',\n       'lat': 4.605955600738525,\n       'lng': -74.07321166992188}],\n     'distance': 931,\n     'cc': 'CO',\n     'country': 'Colombia',\n     'formattedAddress': ['Colombia']},\n    'categories': [{'id': '4bf58dd8d48988d111951735',\n      'name': 'Jewelry Store',\n      'pluralName': 'Jewelry Stores',\n      'shortName': 'Jewelry',\n      'icon': {'prefix': 'https://ss3.4sqi.net/img/categories_v2/shops/jewelry_',\n       'suffix': '.png'},\n      'primary': True}],\n    'referralId': 'v-1566484000',\n    'hasPerk': False},\n   {'id': '5a88b76d51950e7c1458e857',\n    'name': 'Vanesa Sol\u00eds Joyer\u00eda',\n    'location': {'lat': 4.6020966,\n     'lng': -74.071594,\n     'labeledLatLngs': [{'label': 'display',\n       'lat': 4.6020966,\n       'lng': -74.071594}],\n     'distance': 666,\n     'postalCode': '110321',\n     'cc': 'CO',\n     'city': 'Bogot\u00e1',\n     'state': 'Bogot\u00e1 D.C.',\n     'country': 'Colombia',\n     'formattedAddress': ['Bogot\u00e1, Bogot\u00e1 D.C.', 'Colombia']},\n    'categories': [{'id': '4bf58dd8d48988d111951735',\n      'name': 'Jewelry Store',\n      'pluralName': 'Jewelry Stores',\n      'shortName': 'Jewelry',\n      'icon': {'prefix': 'https://ss3.4sqi.net/img/categories_v2/shops/jewelry_',\n       'suffix': '.png'},\n      'primary': True}],\n    'referralId': 'v-1566484000',\n    'hasPerk': False},\n   {'id': '4fb3f411e4b01462acbfc7f9',\n    'name': 'mido relojeria y joyeria',\n    'location': {'lat': 4.60373664772403,\n     'lng': -74.07290558799528,\n     'labeledLatLngs': [{'label': 'display',\n       'lat': 4.60373664772403,\n       'lng': -74.07290558799528}],\n     'distance': 719,\n     'cc': 'CO',\n     'country': 'Colombia',\n     'formattedAddress': ['Colombia']},\n    'categories': [{'id': '4bf58dd8d48988d111951735',\n      'name': 'Jewelry Store',\n      'pluralName': 'Jewelry Stores',\n      'shortName': 'Jewelry',\n      'icon': {'prefix': 'https://ss3.4sqi.net/img/categories_v2/shops/jewelry_',\n       'suffix': '.png'},\n      'primary': True}],\n    'referralId': 'v-1566484000',\n    'hasPerk': False}]}}"
                    }, 
                    "output_type": "execute_result"
                }
            ], 
            "source": "resultsB = requests.get(url2).json()\nresultsB"
        }, 
        {
            "execution_count": 24, 
            "cell_type": "code", 
            "metadata": {}, 
            "outputs": [
                {
                    "execution_count": 24, 
                    "metadata": {}, 
                    "data": {
                        "text/html": "<div>\n<style scoped>\n    .dataframe tbody tr th:only-of-type {\n        vertical-align: middle;\n    }\n\n    .dataframe tbody tr th {\n        vertical-align: top;\n    }\n\n    .dataframe thead th {\n        text-align: right;\n    }\n</style>\n<table border=\"1\" class=\"dataframe\">\n  <thead>\n    <tr style=\"text-align: right;\">\n      <th></th>\n      <th>categories</th>\n      <th>hasPerk</th>\n      <th>id</th>\n      <th>location.address</th>\n      <th>location.cc</th>\n      <th>location.city</th>\n      <th>location.country</th>\n      <th>location.crossStreet</th>\n      <th>location.distance</th>\n      <th>location.formattedAddress</th>\n      <th>location.labeledLatLngs</th>\n      <th>location.lat</th>\n      <th>location.lng</th>\n      <th>location.postalCode</th>\n      <th>location.state</th>\n      <th>name</th>\n      <th>referralId</th>\n    </tr>\n  </thead>\n  <tbody>\n    <tr>\n      <th>0</th>\n      <td>[{'id': '4bf58dd8d48988d111951735', 'name': 'Jewelry Store', 'pluralName': 'Jewelry Stores', 'shortName': 'Jewelry', 'icon': {'prefix': 'https://ss3.4sqi.net/img/categories_v2/shops/jewelry_', 'suffix': '.png'}, 'primary': True}]</td>\n      <td>False</td>\n      <td>4ee6156b9adf398201023461</td>\n      <td>NaN</td>\n      <td>CO</td>\n      <td>NaN</td>\n      <td>Colombia</td>\n      <td>NaN</td>\n      <td>257</td>\n      <td>[Colombia]</td>\n      <td>[{'label': 'display', 'lat': 4.598725789365495, 'lng': -74.07381194311554}]</td>\n      <td>4.598726</td>\n      <td>-74.073812</td>\n      <td>NaN</td>\n      <td>NaN</td>\n      <td>Joyer\u00eda Citizen</td>\n      <td>v-1566484000</td>\n    </tr>\n    <tr>\n      <th>1</th>\n      <td>[{'id': '4bf58dd8d48988d111951735', 'name': 'Jewelry Store', 'pluralName': 'Jewelry Stores', 'shortName': 'Jewelry', 'icon': {'prefix': 'https://ss3.4sqi.net/img/categories_v2/shops/jewelry_', 'suffix': '.png'}, 'primary': True}]</td>\n      <td>False</td>\n      <td>50c3a0ace4b047e9d431fb3b</td>\n      <td>Cra 15 calle 91</td>\n      <td>CO</td>\n      <td>NaN</td>\n      <td>Colombia</td>\n      <td>NaN</td>\n      <td>283</td>\n      <td>[Cra 15 calle 91, Colombia]</td>\n      <td>[{'label': 'display', 'lat': 4.599064, 'lng': -74.073684}]</td>\n      <td>4.599064</td>\n      <td>-74.073684</td>\n      <td>NaN</td>\n      <td>NaN</td>\n      <td>Joyeria Centro Seiko</td>\n      <td>v-1566484000</td>\n    </tr>\n    <tr>\n      <th>2</th>\n      <td>[{'id': '4bf58dd8d48988d1ff941735', 'name': 'Miscellaneous Shop', 'pluralName': 'Miscellaneous Shops', 'shortName': 'Shop', 'icon': {'prefix': 'https://ss3.4sqi.net/img/categories_v2/shops/default_', 'suffix': '.png'}, 'primary': True}]</td>\n      <td>False</td>\n      <td>4f4e5c004fc64d33baa0b149</td>\n      <td>Calle 12b  6 58</td>\n      <td>CO</td>\n      <td>Distrito Capital, Bogot\u00e1</td>\n      <td>Colombia</td>\n      <td>NaN</td>\n      <td>291</td>\n      <td>[Calle 12b  6 58, Distrito Capital, Bogot\u00e1, Colombia]</td>\n      <td>[{'label': 'display', 'lat': 4.5996960724789, 'lng': -74.07397627830505}]</td>\n      <td>4.599696</td>\n      <td>-74.073976</td>\n      <td>051</td>\n      <td>NaN</td>\n      <td>Joyer\u00eda Nivada</td>\n      <td>v-1566484000</td>\n    </tr>\n    <tr>\n      <th>3</th>\n      <td>[{'id': '4bf58dd8d48988d111951735', 'name': 'Jewelry Store', 'pluralName': 'Jewelry Stores', 'shortName': 'Jewelry', 'icon': {'prefix': 'https://ss3.4sqi.net/img/categories_v2/shops/jewelry_', 'suffix': '.png'}, 'primary': True}]</td>\n      <td>False</td>\n      <td>55fb03e1498e3d56f082a435</td>\n      <td>Calle 12b No. 6-57</td>\n      <td>CO</td>\n      <td>Candelaria</td>\n      <td>Colombia</td>\n      <td>Centro</td>\n      <td>301</td>\n      <td>[Calle 12b No. 6-57 (Centro), Candelaria, Bogot\u00e1 D.C., Colombia]</td>\n      <td>[{'label': 'display', 'lat': 4.599928171829357, 'lng': -74.07405860862978}]</td>\n      <td>4.599928</td>\n      <td>-74.074059</td>\n      <td>NaN</td>\n      <td>Bogot\u00e1 D.C.</td>\n      <td>Joyer\u00eda Roma Relojer\u00eda</td>\n      <td>v-1566484000</td>\n    </tr>\n    <tr>\n      <th>4</th>\n      <td>[{'id': '4bf58dd8d48988d111951735', 'name': 'Jewelry Store', 'pluralName': 'Jewelry Stores', 'shortName': 'Jewelry', 'icon': {'prefix': 'https://ss3.4sqi.net/img/categories_v2/shops/jewelry_', 'suffix': '.png'}, 'primary': True}]</td>\n      <td>False</td>\n      <td>52597395498e80ed5246b635</td>\n      <td>Calle 13 # 6 - 03</td>\n      <td>CO</td>\n      <td>NaN</td>\n      <td>Colombia</td>\n      <td>NaN</td>\n      <td>371</td>\n      <td>[Calle 13 # 6 - 03, Colombia]</td>\n      <td>[{'label': 'display', 'lat': 4.599854469299316, 'lng': -74.07321166992188}]</td>\n      <td>4.599854</td>\n      <td>-74.073212</td>\n      <td>NaN</td>\n      <td>NaN</td>\n      <td>Joyer\u00eda Maria Hel</td>\n      <td>v-1566484000</td>\n    </tr>\n  </tbody>\n</table>\n</div>", 
                        "text/plain": "                                                                                                                                                                                                                                     categories  \\\n0  [{'id': '4bf58dd8d48988d111951735', 'name': 'Jewelry Store', 'pluralName': 'Jewelry Stores', 'shortName': 'Jewelry', 'icon': {'prefix': 'https://ss3.4sqi.net/img/categories_v2/shops/jewelry_', 'suffix': '.png'}, 'primary': True}]          \n1  [{'id': '4bf58dd8d48988d111951735', 'name': 'Jewelry Store', 'pluralName': 'Jewelry Stores', 'shortName': 'Jewelry', 'icon': {'prefix': 'https://ss3.4sqi.net/img/categories_v2/shops/jewelry_', 'suffix': '.png'}, 'primary': True}]          \n2  [{'id': '4bf58dd8d48988d1ff941735', 'name': 'Miscellaneous Shop', 'pluralName': 'Miscellaneous Shops', 'shortName': 'Shop', 'icon': {'prefix': 'https://ss3.4sqi.net/img/categories_v2/shops/default_', 'suffix': '.png'}, 'primary': True}]   \n3  [{'id': '4bf58dd8d48988d111951735', 'name': 'Jewelry Store', 'pluralName': 'Jewelry Stores', 'shortName': 'Jewelry', 'icon': {'prefix': 'https://ss3.4sqi.net/img/categories_v2/shops/jewelry_', 'suffix': '.png'}, 'primary': True}]          \n4  [{'id': '4bf58dd8d48988d111951735', 'name': 'Jewelry Store', 'pluralName': 'Jewelry Stores', 'shortName': 'Jewelry', 'icon': {'prefix': 'https://ss3.4sqi.net/img/categories_v2/shops/jewelry_', 'suffix': '.png'}, 'primary': True}]          \n\n   hasPerk                        id    location.address location.cc  \\\n0  False    4ee6156b9adf398201023461  NaN                 CO           \n1  False    50c3a0ace4b047e9d431fb3b  Cra 15 calle 91     CO           \n2  False    4f4e5c004fc64d33baa0b149  Calle 12b  6 58     CO           \n3  False    55fb03e1498e3d56f082a435  Calle 12b No. 6-57  CO           \n4  False    52597395498e80ed5246b635  Calle 13 # 6 - 03   CO           \n\n              location.city location.country location.crossStreet  \\\n0  NaN                       Colombia         NaN                   \n1  NaN                       Colombia         NaN                   \n2  Distrito Capital, Bogot\u00e1  Colombia         NaN                   \n3  Candelaria                Colombia         Centro                \n4  NaN                       Colombia         NaN                   \n\n   location.distance  \\\n0  257                 \n1  283                 \n2  291                 \n3  301                 \n4  371                 \n\n                                          location.formattedAddress  \\\n0  [Colombia]                                                         \n1  [Cra 15 calle 91, Colombia]                                        \n2  [Calle 12b  6 58, Distrito Capital, Bogot\u00e1, Colombia]              \n3  [Calle 12b No. 6-57 (Centro), Candelaria, Bogot\u00e1 D.C., Colombia]   \n4  [Calle 13 # 6 - 03, Colombia]                                      \n\n                                                       location.labeledLatLngs  \\\n0  [{'label': 'display', 'lat': 4.598725789365495, 'lng': -74.07381194311554}]   \n1  [{'label': 'display', 'lat': 4.599064, 'lng': -74.073684}]                    \n2  [{'label': 'display', 'lat': 4.5996960724789, 'lng': -74.07397627830505}]     \n3  [{'label': 'display', 'lat': 4.599928171829357, 'lng': -74.07405860862978}]   \n4  [{'label': 'display', 'lat': 4.599854469299316, 'lng': -74.07321166992188}]   \n\n   location.lat  location.lng location.postalCode location.state  \\\n0  4.598726     -74.073812     NaN                 NaN             \n1  4.599064     -74.073684     NaN                 NaN             \n2  4.599696     -74.073976     051                 NaN             \n3  4.599928     -74.074059     NaN                 Bogot\u00e1 D.C.     \n4  4.599854     -74.073212     NaN                 NaN             \n\n                     name    referralId  \n0  Joyer\u00eda Citizen         v-1566484000  \n1  Joyeria Centro Seiko    v-1566484000  \n2  Joyer\u00eda Nivada          v-1566484000  \n3  Joyer\u00eda Roma Relojer\u00eda  v-1566484000  \n4  Joyer\u00eda Maria Hel       v-1566484000  "
                    }, 
                    "output_type": "execute_result"
                }
            ], 
            "source": "venues2 = resultsB['response']['venues']\ndataframe = json_normalize(venues2)\ndataframe.head()"
        }, 
        {
            "source": "#### Let's define the data frame with the information that is of interest", 
            "cell_type": "markdown", 
            "metadata": {}
        }, 
        {
            "execution_count": 25, 
            "cell_type": "code", 
            "metadata": {}, 
            "outputs": [
                {
                    "execution_count": 25, 
                    "metadata": {}, 
                    "data": {
                        "text/html": "<div>\n<style scoped>\n    .dataframe tbody tr th:only-of-type {\n        vertical-align: middle;\n    }\n\n    .dataframe tbody tr th {\n        vertical-align: top;\n    }\n\n    .dataframe thead th {\n        text-align: right;\n    }\n</style>\n<table border=\"1\" class=\"dataframe\">\n  <thead>\n    <tr style=\"text-align: right;\">\n      <th></th>\n      <th>name</th>\n      <th>categories</th>\n      <th>address</th>\n      <th>cc</th>\n      <th>city</th>\n      <th>country</th>\n      <th>crossStreet</th>\n      <th>distance</th>\n      <th>formattedAddress</th>\n      <th>labeledLatLngs</th>\n      <th>lat</th>\n      <th>lng</th>\n      <th>postalCode</th>\n      <th>state</th>\n      <th>id</th>\n    </tr>\n  </thead>\n  <tbody>\n    <tr>\n      <th>0</th>\n      <td>Joyer\u00eda Citizen</td>\n      <td>Jewelry Store</td>\n      <td>NaN</td>\n      <td>CO</td>\n      <td>NaN</td>\n      <td>Colombia</td>\n      <td>NaN</td>\n      <td>257</td>\n      <td>[Colombia]</td>\n      <td>[{'label': 'display', 'lat': 4.598725789365495, 'lng': -74.07381194311554}]</td>\n      <td>4.598726</td>\n      <td>-74.073812</td>\n      <td>NaN</td>\n      <td>NaN</td>\n      <td>4ee6156b9adf398201023461</td>\n    </tr>\n    <tr>\n      <th>1</th>\n      <td>Joyeria Centro Seiko</td>\n      <td>Jewelry Store</td>\n      <td>Cra 15 calle 91</td>\n      <td>CO</td>\n      <td>NaN</td>\n      <td>Colombia</td>\n      <td>NaN</td>\n      <td>283</td>\n      <td>[Cra 15 calle 91, Colombia]</td>\n      <td>[{'label': 'display', 'lat': 4.599064, 'lng': -74.073684}]</td>\n      <td>4.599064</td>\n      <td>-74.073684</td>\n      <td>NaN</td>\n      <td>NaN</td>\n      <td>50c3a0ace4b047e9d431fb3b</td>\n    </tr>\n    <tr>\n      <th>2</th>\n      <td>Joyer\u00eda Nivada</td>\n      <td>Miscellaneous Shop</td>\n      <td>Calle 12b  6 58</td>\n      <td>CO</td>\n      <td>Distrito Capital, Bogot\u00e1</td>\n      <td>Colombia</td>\n      <td>NaN</td>\n      <td>291</td>\n      <td>[Calle 12b  6 58, Distrito Capital, Bogot\u00e1, Colombia]</td>\n      <td>[{'label': 'display', 'lat': 4.5996960724789, 'lng': -74.07397627830505}]</td>\n      <td>4.599696</td>\n      <td>-74.073976</td>\n      <td>051</td>\n      <td>NaN</td>\n      <td>4f4e5c004fc64d33baa0b149</td>\n    </tr>\n    <tr>\n      <th>3</th>\n      <td>Joyer\u00eda Roma Relojer\u00eda</td>\n      <td>Jewelry Store</td>\n      <td>Calle 12b No. 6-57</td>\n      <td>CO</td>\n      <td>Candelaria</td>\n      <td>Colombia</td>\n      <td>Centro</td>\n      <td>301</td>\n      <td>[Calle 12b No. 6-57 (Centro), Candelaria, Bogot\u00e1 D.C., Colombia]</td>\n      <td>[{'label': 'display', 'lat': 4.599928171829357, 'lng': -74.07405860862978}]</td>\n      <td>4.599928</td>\n      <td>-74.074059</td>\n      <td>NaN</td>\n      <td>Bogot\u00e1 D.C.</td>\n      <td>55fb03e1498e3d56f082a435</td>\n    </tr>\n    <tr>\n      <th>4</th>\n      <td>Joyer\u00eda Maria Hel</td>\n      <td>Jewelry Store</td>\n      <td>Calle 13 # 6 - 03</td>\n      <td>CO</td>\n      <td>NaN</td>\n      <td>Colombia</td>\n      <td>NaN</td>\n      <td>371</td>\n      <td>[Calle 13 # 6 - 03, Colombia]</td>\n      <td>[{'label': 'display', 'lat': 4.599854469299316, 'lng': -74.07321166992188}]</td>\n      <td>4.599854</td>\n      <td>-74.073212</td>\n      <td>NaN</td>\n      <td>NaN</td>\n      <td>52597395498e80ed5246b635</td>\n    </tr>\n    <tr>\n      <th>5</th>\n      <td>Joyeria Candelaria</td>\n      <td>Jewelry Store</td>\n      <td>NaN</td>\n      <td>CO</td>\n      <td>NaN</td>\n      <td>Colombia</td>\n      <td>NaN</td>\n      <td>384</td>\n      <td>[Colombia]</td>\n      <td>[{'label': 'display', 'lat': 4.601404, 'lng': -74.075108}]</td>\n      <td>4.601404</td>\n      <td>-74.075108</td>\n      <td>NaN</td>\n      <td>NaN</td>\n      <td>50ba3782e4b05d0a8e3254eb</td>\n    </tr>\n    <tr>\n      <th>6</th>\n      <td>Arte joyeria</td>\n      <td>Jewelry Store</td>\n      <td>Carrera 6 No.12-25</td>\n      <td>CO</td>\n      <td>NaN</td>\n      <td>Colombia</td>\n      <td>NaN</td>\n      <td>273</td>\n      <td>[Carrera 6 No.12-25, Colombia]</td>\n      <td>[{'label': 'display', 'lat': 4.598859, 'lng': -74.073704}]</td>\n      <td>4.598859</td>\n      <td>-74.073704</td>\n      <td>NaN</td>\n      <td>NaN</td>\n      <td>5307d36d498e227868d2f1de</td>\n    </tr>\n    <tr>\n      <th>7</th>\n      <td>Joyeria Continental</td>\n      <td>Jewelry Store</td>\n      <td>NaN</td>\n      <td>CO</td>\n      <td>NaN</td>\n      <td>Colombia</td>\n      <td>NaN</td>\n      <td>931</td>\n      <td>[Colombia]</td>\n      <td>[{'label': 'display', 'lat': 4.605955600738525, 'lng': -74.07321166992188}]</td>\n      <td>4.605956</td>\n      <td>-74.073212</td>\n      <td>NaN</td>\n      <td>NaN</td>\n      <td>5187f632498ef92261ed36bc</td>\n    </tr>\n    <tr>\n      <th>8</th>\n      <td>Vanesa Sol\u00eds Joyer\u00eda</td>\n      <td>Jewelry Store</td>\n      <td>NaN</td>\n      <td>CO</td>\n      <td>Bogot\u00e1</td>\n      <td>Colombia</td>\n      <td>NaN</td>\n      <td>666</td>\n      <td>[Bogot\u00e1, Bogot\u00e1 D.C., Colombia]</td>\n      <td>[{'label': 'display', 'lat': 4.6020966, 'lng': -74.071594}]</td>\n      <td>4.602097</td>\n      <td>-74.071594</td>\n      <td>110321</td>\n      <td>Bogot\u00e1 D.C.</td>\n      <td>5a88b76d51950e7c1458e857</td>\n    </tr>\n    <tr>\n      <th>9</th>\n      <td>mido relojeria y joyeria</td>\n      <td>Jewelry Store</td>\n      <td>NaN</td>\n      <td>CO</td>\n      <td>NaN</td>\n      <td>Colombia</td>\n      <td>NaN</td>\n      <td>719</td>\n      <td>[Colombia]</td>\n      <td>[{'label': 'display', 'lat': 4.60373664772403, 'lng': -74.07290558799528}]</td>\n      <td>4.603737</td>\n      <td>-74.072906</td>\n      <td>NaN</td>\n      <td>NaN</td>\n      <td>4fb3f411e4b01462acbfc7f9</td>\n    </tr>\n  </tbody>\n</table>\n</div>", 
                        "text/plain": "                       name          categories             address  cc  \\\n0  Joyer\u00eda Citizen           Jewelry Store       NaN                 CO   \n1  Joyeria Centro Seiko      Jewelry Store       Cra 15 calle 91     CO   \n2  Joyer\u00eda Nivada            Miscellaneous Shop  Calle 12b  6 58     CO   \n3  Joyer\u00eda Roma Relojer\u00eda    Jewelry Store       Calle 12b No. 6-57  CO   \n4  Joyer\u00eda Maria Hel         Jewelry Store       Calle 13 # 6 - 03   CO   \n5  Joyeria Candelaria        Jewelry Store       NaN                 CO   \n6  Arte joyeria              Jewelry Store       Carrera 6 No.12-25  CO   \n7  Joyeria Continental       Jewelry Store       NaN                 CO   \n8  Vanesa Sol\u00eds Joyer\u00eda      Jewelry Store       NaN                 CO   \n9  mido relojeria y joyeria  Jewelry Store       NaN                 CO   \n\n                       city   country crossStreet  distance  \\\n0  NaN                       Colombia  NaN         257        \n1  NaN                       Colombia  NaN         283        \n2  Distrito Capital, Bogot\u00e1  Colombia  NaN         291        \n3  Candelaria                Colombia  Centro      301        \n4  NaN                       Colombia  NaN         371        \n5  NaN                       Colombia  NaN         384        \n6  NaN                       Colombia  NaN         273        \n7  NaN                       Colombia  NaN         931        \n8  Bogot\u00e1                    Colombia  NaN         666        \n9  NaN                       Colombia  NaN         719        \n\n                                                   formattedAddress  \\\n0  [Colombia]                                                         \n1  [Cra 15 calle 91, Colombia]                                        \n2  [Calle 12b  6 58, Distrito Capital, Bogot\u00e1, Colombia]              \n3  [Calle 12b No. 6-57 (Centro), Candelaria, Bogot\u00e1 D.C., Colombia]   \n4  [Calle 13 # 6 - 03, Colombia]                                      \n5  [Colombia]                                                         \n6  [Carrera 6 No.12-25, Colombia]                                     \n7  [Colombia]                                                         \n8  [Bogot\u00e1, Bogot\u00e1 D.C., Colombia]                                    \n9  [Colombia]                                                         \n\n                                                                labeledLatLngs  \\\n0  [{'label': 'display', 'lat': 4.598725789365495, 'lng': -74.07381194311554}]   \n1  [{'label': 'display', 'lat': 4.599064, 'lng': -74.073684}]                    \n2  [{'label': 'display', 'lat': 4.5996960724789, 'lng': -74.07397627830505}]     \n3  [{'label': 'display', 'lat': 4.599928171829357, 'lng': -74.07405860862978}]   \n4  [{'label': 'display', 'lat': 4.599854469299316, 'lng': -74.07321166992188}]   \n5  [{'label': 'display', 'lat': 4.601404, 'lng': -74.075108}]                    \n6  [{'label': 'display', 'lat': 4.598859, 'lng': -74.073704}]                    \n7  [{'label': 'display', 'lat': 4.605955600738525, 'lng': -74.07321166992188}]   \n8  [{'label': 'display', 'lat': 4.6020966, 'lng': -74.071594}]                   \n9  [{'label': 'display', 'lat': 4.60373664772403, 'lng': -74.07290558799528}]    \n\n        lat        lng postalCode        state                        id  \n0  4.598726 -74.073812  NaN        NaN          4ee6156b9adf398201023461  \n1  4.599064 -74.073684  NaN        NaN          50c3a0ace4b047e9d431fb3b  \n2  4.599696 -74.073976  051        NaN          4f4e5c004fc64d33baa0b149  \n3  4.599928 -74.074059  NaN        Bogot\u00e1 D.C.  55fb03e1498e3d56f082a435  \n4  4.599854 -74.073212  NaN        NaN          52597395498e80ed5246b635  \n5  4.601404 -74.075108  NaN        NaN          50ba3782e4b05d0a8e3254eb  \n6  4.598859 -74.073704  NaN        NaN          5307d36d498e227868d2f1de  \n7  4.605956 -74.073212  NaN        NaN          5187f632498ef92261ed36bc  \n8  4.602097 -74.071594  110321     Bogot\u00e1 D.C.  5a88b76d51950e7c1458e857  \n9  4.603737 -74.072906  NaN        NaN          4fb3f411e4b01462acbfc7f9  "
                    }, 
                    "output_type": "execute_result"
                }
            ], 
            "source": "filtered_columns = ['name', 'categories'] + [col for col in dataframe.columns if col.startswith('location.')] + ['id']\ndataframe_filtered = dataframe.loc[:, filtered_columns]\n\n# function that extracts the category of the venue\ndef get_category_type(row):\n    try:\n        categories_list = row['categories']\n    except:\n        categories_list = row['venue.categories']\n        \n    if len(categories_list) == 0:\n        return None\n    else:\n        return categories_list[0]['name']\n\n# filter the category for each row\ndataframe_filtered['categories'] = dataframe_filtered.apply(get_category_type, axis=1)\n\n# clean column names by keeping only last term\ndataframe_filtered.columns = [column.split('.')[-1] for column in dataframe_filtered.columns]\n\ndataframe_filtered"
        }, 
        {
            "source": "##### Now let's sum up the name of the jewelries close to our point of interest", 
            "cell_type": "markdown", 
            "metadata": {}
        }, 
        {
            "execution_count": 26, 
            "cell_type": "code", 
            "metadata": {}, 
            "outputs": [
                {
                    "execution_count": 26, 
                    "metadata": {}, 
                    "data": {
                        "text/plain": "0    Joyer\u00eda Citizen         \n1    Joyeria Centro Seiko    \n2    Joyer\u00eda Nivada          \n3    Joyer\u00eda Roma Relojer\u00eda  \n4    Joyer\u00eda Maria Hel       \n5    Joyeria Candelaria      \n6    Arte joyeria            \n7    Joyeria Continental     \n8    Vanesa Sol\u00eds Joyer\u00eda    \n9    mido relojeria y joyeria\nName: name, dtype: object"
                    }, 
                    "output_type": "execute_result"
                }
            ], 
            "source": "dataframe_filtered.name"
        }, 
        {
            "execution_count": 27, 
            "cell_type": "code", 
            "metadata": {}, 
            "outputs": [], 
            "source": "# lets take a Look at the location in the city"
        }, 
        {
            "execution_count": 28, 
            "cell_type": "code", 
            "metadata": {}, 
            "outputs": [
                {
                    "execution_count": 28, 
                    "metadata": {}, 
                    "data": {
                        "text/html": "<div style=\"width:100%;\"><div style=\"position:relative;width:100%;height:0;padding-bottom:60%;\"><iframe src=\"data:text/html;charset=utf-8;base64,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\" style=\"position:absolute;width:100%;height:100%;left:0;top:0;border:none !important;\" allowfullscreen webkitallowfullscreen mozallowfullscreen></iframe></div></div>", 
                        "text/plain": "<folium.folium.Map at 0x7f45e4b702e8>"
                    }, 
                    "output_type": "execute_result"
                }
            ], 
            "source": "venues_maps = folium.Map(location=[latitude2, longitude2], zoom_start=13) \n\n# add a green circle marker to represent the Floripa Jewelry\nfolium.features.CircleMarker(\n    [latitude2, longitude2],\n    radius=10,\n    color='green',\n    popup='Joyer\u00eda Maria Hel',\n    fill = True,\n    fill_color = 'green',\n    fill_opacity = 0.5\n).add_to(venues_maps)\n\n# add the jewelries as purplee circle markers\nfor lat, lng, label in zip(dataframe_filtered.lat, dataframe_filtered.lng, dataframe_filtered.categories):\n    folium.features.CircleMarker(\n        [lat, lng],\n        radius=5,\n        color='purple',\n        popup=label,\n        fill = True,\n        fill_color='purple',\n        fill_opacity=0.5\n    ).add_to(venues_maps)\nvenues_maps"
        }, 
        {
            "source": "####  Let's explore in detail some of the jewelries.", 
            "cell_type": "markdown", 
            "metadata": {}
        }, 
        {
            "execution_count": 29, 
            "cell_type": "code", 
            "metadata": {}, 
            "outputs": [
                {
                    "execution_count": 29, 
                    "metadata": {}, 
                    "data": {
                        "text/plain": "'https://api.foursquare.com/v2/venues/4ee6156b9adf398201023461?client_id=WCK535NG04YZTNLZP3JNTI215B45UCMROLCZAO2DCWL4ZUQ2&client_secret=1UVSHMRNYHQBMSEOGAL4GP3CACE24GL3LQ40DFVWADWGOY3Q&v=20180604'"
                    }, 
                    "output_type": "execute_result"
                }
            ], 
            "source": "venue_id = '4ee6156b9adf398201023461' # Joyeria Citizen\nurl = 'https://api.foursquare.com/v2/venues/{}?client_id={}&client_secret={}&v={}'.format(venue_id, CLIENT_ID, CLIENT_SECRET, VERSION)\nurl"
        }, 
        {
            "execution_count": 30, 
            "cell_type": "code", 
            "metadata": {}, 
            "outputs": [
                {
                    "output_type": "stream", 
                    "name": "stdout", 
                    "text": "dict_keys(['id', 'name', 'contact', 'location', 'canonicalUrl', 'categories', 'verified', 'stats', 'likes', 'dislike', 'ok', 'allowMenuUrlEdit', 'beenHere', 'specials', 'photos', 'reasons', 'hereNow', 'createdAt', 'tips', 'shortUrl', 'timeZone', 'listed', 'pageUpdates', 'inbox', 'attributes', 'bestPhoto'])\n"
                }, 
                {
                    "execution_count": 30, 
                    "metadata": {}, 
                    "data": {
                        "text/plain": "{'id': '4ee6156b9adf398201023461',\n 'name': 'Joyer\u00eda Citizen',\n 'contact': {},\n 'location': {'lat': 4.598725789365495,\n  'lng': -74.07381194311554,\n  'labeledLatLngs': [{'label': 'display',\n    'lat': 4.598725789365495,\n    'lng': -74.07381194311554}],\n  'cc': 'CO',\n  'country': 'Colombia',\n  'formattedAddress': ['Colombia']},\n 'canonicalUrl': 'https://foursquare.com/v/joyer%C3%ADa-citizen/4ee6156b9adf398201023461',\n 'categories': [{'id': '4bf58dd8d48988d111951735',\n   'name': 'Jewelry Store',\n   'pluralName': 'Jewelry Stores',\n   'shortName': 'Jewelry',\n   'icon': {'prefix': 'https://ss3.4sqi.net/img/categories_v2/shops/jewelry_',\n    'suffix': '.png'},\n   'primary': True}],\n 'verified': False,\n 'stats': {'tipCount': 1},\n 'likes': {'count': 1,\n  'groups': [{'type': 'others',\n    'count': 1,\n    'items': [{'id': '17885492',\n      'firstName': 'Zoniferland',\n      'gender': 'female',\n      'photo': {'prefix': 'https://fastly.4sqi.net/img/user/',\n       'suffix': '/17885492-FWVTUGAQZTKFC4MM.jpg'}}]}],\n  'summary': '1 Like'},\n 'dislike': False,\n 'ok': False,\n 'allowMenuUrlEdit': True,\n 'beenHere': {'count': 0,\n  'unconfirmedCount': 0,\n  'marked': False,\n  'lastCheckinExpiredAt': 0},\n 'specials': {'count': 0, 'items': []},\n 'photos': {'count': 1,\n  'groups': [{'type': 'checkin',\n    'name': \"Friends' check-in photos\",\n    'count': 0,\n    'items': []},\n   {'type': 'venue',\n    'name': 'Venue photos',\n    'count': 1,\n    'items': [{'id': '503a431ae4b0e2a7db61d187',\n      'createdAt': 1345995546,\n      'source': {'name': 'Foursquare for Android',\n       'url': 'https://foursquare.com/download/#/android'},\n      'prefix': 'https://fastly.4sqi.net/img/general/',\n      'suffix': '/Psq5-iaIq1bkolSjyrjxWcm3Fv8zzbQgeV3MO19093w.jpg',\n      'width': 720,\n      'height': 540,\n      'user': {'id': '7029010',\n       'firstName': 'Diana',\n       'lastName': 'Salazar',\n       'gender': 'female',\n       'photo': {'prefix': 'https://fastly.4sqi.net/img/user/',\n        'suffix': '/7029010-HE2OIWSYDRLSKJW1.jpg'}},\n      'visibility': 'public'}]}],\n  'summary': '1 photo'},\n 'reasons': {'count': 0, 'items': []},\n 'hereNow': {'count': 0, 'summary': 'Nobody here', 'groups': []},\n 'createdAt': 1323701611,\n 'tips': {'count': 1,\n  'groups': [{'type': 'others',\n    'name': 'All tips',\n    'count': 1,\n    'items': [{'id': '4fbbda3ee4b0b67c8658d4a0',\n      'createdAt': 1337711166,\n      'text': 'La Se\u00f1ora que atiende es una churra impresionante.',\n      'type': 'user',\n      'canonicalUrl': 'https://foursquare.com/item/4fbbda3ee4b0b67c8658d4a0',\n      'lang': 'es',\n      'likes': {'count': 0, 'groups': []},\n      'logView': True,\n      'agreeCount': 0,\n      'disagreeCount': 0,\n      'todo': {'count': 0},\n      'user': {'id': '1761438',\n       'firstName': 'Nicol\u00e1s',\n       'lastName': 'Mart\u00ednez',\n       'gender': 'male',\n       'photo': {'prefix': 'https://fastly.4sqi.net/img/user/',\n        'suffix': '/1761438_AQB3wM11_GAmXIsfttTUFehqqkMH6YOeLKwWw10cVv2tyJ9UydOzWNZAcUDwdGw1IxmbrwrRW.jpg'}}}]}]},\n 'shortUrl': 'http://4sq.com/vcDiXA',\n 'timeZone': 'America/Bogota',\n 'listed': {'count': 1,\n  'groups': [{'type': 'others',\n    'name': 'Lists from other people',\n    'count': 1,\n    'items': [{'id': '5d5d3d7e1d33870007656a71',\n      'name': 'berger polanco',\n      'description': '',\n      'type': 'others',\n      'user': {'id': '553358367',\n       'firstName': 'Marcela',\n       'lastName': 'Rondon',\n       'gender': 'female',\n       'photo': {'prefix': 'https://fastly.4sqi.net/img/user/',\n        'suffix': '/blank_girl.png',\n        'default': True}},\n      'editable': False,\n      'public': True,\n      'collaborative': False,\n      'url': '/user/553358367/list/berger-polanco',\n      'canonicalUrl': 'https://foursquare.com/user/553358367/list/berger-polanco',\n      'createdAt': 1566391678,\n      'updatedAt': 1566399306,\n      'followers': {'count': 0},\n      'listItems': {'count': 7,\n       'items': [{'id': 'v4ee6156b9adf398201023461',\n         'createdAt': 1566398613}]}}]}]},\n 'pageUpdates': {'count': 0, 'items': []},\n 'inbox': {'count': 0, 'items': []},\n 'attributes': {'groups': []},\n 'bestPhoto': {'id': '503a431ae4b0e2a7db61d187',\n  'createdAt': 1345995546,\n  'source': {'name': 'Foursquare for Android',\n   'url': 'https://foursquare.com/download/#/android'},\n  'prefix': 'https://fastly.4sqi.net/img/general/',\n  'suffix': '/Psq5-iaIq1bkolSjyrjxWcm3Fv8zzbQgeV3MO19093w.jpg',\n  'width': 720,\n  'height': 540,\n  'visibility': 'public'}}"
                    }, 
                    "output_type": "execute_result"
                }
            ], 
            "source": "result3 = requests.get(url).json()\nprint(result3['response']['venue'].keys())\nresult3['response']['venue']"
        }, 
        {
            "execution_count": 31, 
            "cell_type": "code", 
            "metadata": {}, 
            "outputs": [
                {
                    "output_type": "stream", 
                    "name": "stdout", 
                    "text": "9.2\n"
                }
            ], 
            "source": "try:\n    print(result['response']['venue']['rating'])\nexcept:\n    print('This venue has no ratinmgs.')"
        }, 
        {
            "source": "##### Really good rating, lets check another Jewelry.", 
            "cell_type": "markdown", 
            "metadata": {}
        }, 
        {
            "execution_count": 32, 
            "cell_type": "code", 
            "metadata": {}, 
            "outputs": [
                {
                    "output_type": "stream", 
                    "name": "stdout", 
                    "text": "8.8\n"
                }
            ], 
            "source": "venue_id = '4bb8e2367421a593c439c240' # ID of Joyeria Andino\nurl = 'https://api.foursquare.com/v2/venues/{}?client_id={}&client_secret={}&v={}'.format(venue_id, CLIENT_ID, CLIENT_SECRET, VERSION)\n\nresult = requests.get(url).json()\ntry:\n    print(result['response']['venue']['rating'])\nexcept:\n    print('This venue has not been rated yet.')"
        }, 
        {
            "source": "##### Let's analyze this one.", 
            "cell_type": "markdown", 
            "metadata": {}
        }, 
        {
            "execution_count": 33, 
            "cell_type": "code", 
            "metadata": {}, 
            "outputs": [
                {
                    "execution_count": 33, 
                    "metadata": {}, 
                    "data": {
                        "text/plain": "312"
                    }, 
                    "output_type": "execute_result"
                }
            ], 
            "source": "result['response']['venue']['tips']['count']"
        }, 
        {
            "source": "#### Let's get the venues tips\n##### Again, the idea would be to get all the tips but as we have a personal account it would not allow us...", 
            "cell_type": "markdown", 
            "metadata": {}
        }, 
        {
            "execution_count": 34, 
            "cell_type": "code", 
            "metadata": {}, 
            "outputs": [
                {
                    "execution_count": 34, 
                    "metadata": {}, 
                    "data": {
                        "text/plain": "{'meta': {'code': 200, 'requestId': '5d5ea636a197930038cc5de9'},\n 'response': {'venue': {'id': '4bb8e2367421a593c439c240',\n   'name': 'Centro Comercial Andino',\n   'contact': {'phone': '+5716213111',\n    'formattedPhone': '+57 1 6213111',\n    'twitter': 'centro_andino',\n    'instagram': 'centrocomercialandino',\n    'facebook': '37192939013',\n    'facebookUsername': 'centrocomercial.andino',\n    'facebookName': 'CENTRO COMERCIAL ANDINO'},\n   'location': {'address': 'Carrera 11 # 82 - 71',\n    'lat': 4.666714547946073,\n    'lng': -74.05309177776574,\n    'labeledLatLngs': [{'label': 'display',\n      'lat': 4.666714547946073,\n      'lng': -74.05309177776574}],\n    'postalCode': '110221',\n    'cc': 'CO',\n    'city': 'Bogot\u00e1',\n    'state': 'Bogot\u00e1 D.C.',\n    'country': 'Colombia',\n    'formattedAddress': ['Carrera 11 # 82 - 71',\n     'Bogot\u00e1, Bogot\u00e1 D.C.',\n     'Colombia']},\n   'canonicalUrl': 'https://foursquare.com/v/centro-comercial-andino/4bb8e2367421a593c439c240',\n   'categories': [{'id': '4bf58dd8d48988d1fd941735',\n     'name': 'Shopping Mall',\n     'pluralName': 'Shopping Malls',\n     'shortName': 'Mall',\n     'icon': {'prefix': 'https://ss3.4sqi.net/img/categories_v2/shops/mall_',\n      'suffix': '.png'},\n     'primary': True}],\n   'verified': False,\n   'stats': {'tipCount': 312},\n   'url': 'http://www.centroandino.com.co',\n   'likes': {'count': 3332,\n    'groups': [{'type': 'others', 'count': 3332, 'items': []}],\n    'summary': '3332 Likes'},\n   'dislike': False,\n   'ok': False,\n   'rating': 8.8,\n   'ratingColor': '73CF42',\n   'ratingSignals': 3998,\n   'beenHere': {'count': 0,\n    'unconfirmedCount': 0,\n    'marked': False,\n    'lastCheckinExpiredAt': 0},\n   'specials': {'count': 0, 'items': []},\n   'photos': {'count': 2107,\n    'groups': [{'type': 'checkin',\n      'name': \"Friends' check-in photos\",\n      'count': 0,\n      'items': []},\n     {'type': 'venue',\n      'name': 'Venue photos',\n      'count': 2107,\n      'items': [{'id': '508c656de4b06f6d1968e6be',\n        'createdAt': 1351378285,\n        'source': {'name': 'Foursquare for iOS',\n         'url': 'https://foursquare.com/download/#/iphone'},\n        'prefix': 'https://fastly.4sqi.net/img/general/',\n        'suffix': '/28349969_BGo-1S7ETI0YyQtitwPzXTa5OEzPet2SjTeBu99xUMw.jpg',\n        'width': 537,\n        'height': 720,\n        'user': {'id': '28349969',\n         'firstName': 'Leonidas',\n         'lastName': 'Uzcategui',\n         'gender': 'male',\n         'photo': {'prefix': 'https://fastly.4sqi.net/img/user/',\n          'suffix': '/28349969-WD5JLEKD2ZYZVSVV.jpg'}},\n        'visibility': 'public'}]}],\n    'summary': '0 photos'},\n   'reasons': {'count': 1,\n    'items': [{'summary': 'Lots of people like this place',\n      'type': 'general',\n      'reasonName': 'rawLikesReason'}]},\n   'description': 'Donde lo mejor tiene lugar.',\n   'hereNow': {'count': 0, 'summary': 'Nobody here', 'groups': []},\n   'createdAt': 1270407734,\n   'tips': {'count': 312,\n    'groups': [{'type': 'others',\n      'name': 'All tips',\n      'count': 312,\n      'items': [{'id': '4ce08d18aba88cfa4e3b50d7',\n        'createdAt': 1289784600,\n        'text': 'La plazoleta de comidas tiene excelentes restaurantes como: Spoleto (italiano), Sipote (mexicano) y El corral (hamburguesas, ensaladas y wraps deli) #recomendadisimos :)',\n        'type': 'user',\n        'canonicalUrl': 'https://foursquare.com/item/4ce08d18aba88cfa4e3b50d7',\n        'lang': 'es',\n        'likes': {'count': 12,\n         'groups': [{'type': 'others', 'count': 12, 'items': []}],\n         'summary': '12 likes'},\n        'logView': True,\n        'agreeCount': 13,\n        'disagreeCount': 0,\n        'todo': {'count': 2},\n        'user': {'id': '2468702',\n         'firstName': 'Paula Andrea',\n         'lastName': 'Gaviria',\n         'gender': 'female',\n         'photo': {'prefix': 'https://fastly.4sqi.net/img/user/',\n          'suffix': '/TUWVIEAVOHWVQRVA.jpg'}},\n        'authorInteractionType': 'liked'}]}]},\n   'shortUrl': 'http://4sq.com/b0VAUG',\n   'timeZone': 'America/Bogota',\n   'listed': {'count': 204,\n    'groups': [{'type': 'others',\n      'name': 'Lists from other people',\n      'count': 204,\n      'items': [{'id': '4f32c3e4e4b09c40b53c9687',\n        'name': 'Colombia',\n        'description': 'Sal a lucirte por las calles colombianas.\\nAp\u00fantate al circuito Glitz.',\n        'type': 'others',\n        'user': {'id': '12216713',\n         'firstName': 'Glitz Latinoam\u00e9rica',\n         'gender': 'none',\n         'photo': {'prefix': 'https://fastly.4sqi.net/img/user/',\n          'suffix': '/ELTBTUGEVLXLAVGY.jpg'},\n         'type': 'page'},\n        'editable': False,\n        'public': True,\n        'collaborative': False,\n        'url': '/glitztv/list/colombia',\n        'canonicalUrl': 'https://foursquare.com/glitztv/list/colombia',\n        'createdAt': 1328727012,\n        'updatedAt': 1380461005,\n        'logView': True,\n        'followers': {'count': 34},\n        'listItems': {'count': 62,\n         'items': [{'id': 't5059e670e4b0af989f8d67b1',\n           'createdAt': 1348068571}]}},\n       {'id': '4e7974a7a809c2cd9bc09c64',\n        'name': 'Recomendados !',\n        'description': '',\n        'type': 'others',\n        'user': {'id': '8152584',\n         'firstName': 'Jose Julian',\n         'lastName': 'Ocampo',\n         'gender': 'male',\n         'photo': {'prefix': 'https://fastly.4sqi.net/img/user/',\n          'suffix': '/511QUTLLW05MER4W.jpg'}},\n        'editable': False,\n        'public': True,\n        'collaborative': False,\n        'url': '/jjocampo/list/recomendados-',\n        'canonicalUrl': 'https://foursquare.com/jjocampo/list/recomendados-',\n        'createdAt': 1316582567,\n        'updatedAt': 1364225683,\n        'photo': {'id': '4e398a6052b11b0b4aa1a9e9',\n         'createdAt': 1312393824,\n         'prefix': 'https://fastly.4sqi.net/img/general/',\n         'suffix': '/50MHTMM3FKMNJBYLTEMPUPKKWARBB4HXIPH5IWO13PMEQD0G.jpg',\n         'width': 720,\n         'height': 537,\n         'user': {'id': '5955956',\n          'firstName': 'Ivan',\n          'lastName': 'G.',\n          'gender': 'male',\n          'photo': {'prefix': 'https://fastly.4sqi.net/img/user/',\n           'suffix': '/HBMQYIZNKU1MHERN.jpg'}},\n         'visibility': 'public'},\n        'followers': {'count': 37},\n        'listItems': {'count': 31,\n         'items': [{'id': 'v4bb8e2367421a593c439c240',\n           'createdAt': 1316583023}]}},\n       {'id': '4eb350778b81a81f8fa32dba',\n        'name': 'CENTROS COMERCIALES',\n        'description': 'hayyyy noo para centros comerciales Bogot\u00e1',\n        'type': 'others',\n        'user': {'id': '16046890',\n         'firstName': 'Laura',\n         'lastName': 'Alvarez',\n         'gender': 'female',\n         'photo': {'prefix': 'https://fastly.4sqi.net/img/user/',\n          'suffix': '/1WTYM0SVINY5LGX5.jpg'}},\n        'editable': False,\n        'public': True,\n        'collaborative': False,\n        'url': '/lauvicky_04/list/centros-comerciales',\n        'canonicalUrl': 'https://foursquare.com/lauvicky_04/list/centros-comerciales',\n        'createdAt': 1320374391,\n        'updatedAt': 1355026631,\n        'followers': {'count': 64},\n        'listItems': {'count': 18,\n         'items': [{'id': 'v4bb8e2367421a593c439c240',\n           'createdAt': 1320374725}]}},\n       {'id': '4ee6539fb8f790fe4189e9fe',\n        'name': 'Bogot\u00e1 Centros Comerciales',\n        'description': '',\n        'type': 'others',\n        'user': {'id': '3375939',\n         'firstName': 'Visa Colombia',\n         'gender': 'none',\n         'photo': {'prefix': 'https://fastly.4sqi.net/img/user/',\n          'suffix': '/3375939-YPBIGRYQMAJASGUT.jpg'},\n         'type': 'page'},\n        'editable': False,\n        'public': True,\n        'collaborative': False,\n        'url': '/p/visa-colombia/3375939/list/bogot%C3%A1-centros-comerciales',\n        'canonicalUrl': 'https://foursquare.com/p/visa-colombia/3375939/list/bogot%C3%A1-centros-comerciales',\n        'createdAt': 1323717535,\n        'updatedAt': 1378477660,\n        'logView': True,\n        'followers': {'count': 90},\n        'listItems': {'count': 36,\n         'items': [{'id': 'v4bb8e2367421a593c439c240',\n           'createdAt': 1323717584}]}}]}]},\n   'popular': {'isOpen': False,\n    'isLocalHoliday': False,\n    'timeframes': [{'days': 'Today',\n      'includesToday': True,\n      'open': [{'renderedTime': 'Noon\u20139:00 PM'}],\n      'segments': []},\n     {'days': 'Fri',\n      'open': [{'renderedTime': 'Noon\u201310:00 PM'}],\n      'segments': []},\n     {'days': 'Sat',\n      'open': [{'renderedTime': '11:00 AM\u201310:00 PM'}],\n      'segments': []},\n     {'days': 'Sun',\n      'open': [{'renderedTime': 'Noon\u20137:00 PM'}],\n      'segments': []},\n     {'days': 'Mon',\n      'open': [{'renderedTime': 'Noon\u20138:00 PM'}],\n      'segments': []},\n     {'days': 'Tue\u2013Wed',\n      'open': [{'renderedTime': 'Noon\u20139:00 PM'}],\n      'segments': []}]},\n   'pageUpdates': {'count': 0, 'items': []},\n   'inbox': {'count': 0, 'items': []},\n   'attributes': {'groups': [{'type': 'payments',\n      'name': 'Credit Cards',\n      'summary': 'Credit Cards',\n      'count': 5,\n      'items': [{'displayName': 'Credit Cards', 'displayValue': 'Yes'}]},\n     {'type': 'wifi',\n      'name': 'Wi-Fi',\n      'summary': 'Wi-Fi',\n      'count': 1,\n      'items': [{'displayName': 'Wi-Fi', 'displayValue': 'Yes'}]}]},\n   'bestPhoto': {'id': '508c656de4b06f6d1968e6be',\n    'createdAt': 1351378285,\n    'source': {'name': 'Foursquare for iOS',\n     'url': 'https://foursquare.com/download/#/iphone'},\n    'prefix': 'https://fastly.4sqi.net/img/general/',\n    'suffix': '/28349969_BGo-1S7ETI0YyQtitwPzXTa5OEzPet2SjTeBu99xUMw.jpg',\n    'width': 537,\n    'height': 720,\n    'visibility': 'public'},\n   'colors': {'highlightColor': {'photoId': '508c656de4b06f6d1968e6be',\n     'value': -12050400},\n    'highlightTextColor': {'photoId': '508c656de4b06f6d1968e6be', 'value': -1},\n    'algoVersion': 3}}}}"
                    }, 
                    "output_type": "execute_result"
                }
            ], 
            "source": "limit = 2\nurl3 = 'https://api.foursquare.com/v2/venues/{}/tips?client_id={}&client_secret={}&v={}&limit={}'.format(venue_id, CLIENT_ID, CLIENT_SECRET, VERSION, limit)\n\nresults4 = requests.get(url).json()\nresults4"
        }, 
        {
            "execution_count": 40, 
            "cell_type": "code", 
            "metadata": {}, 
            "outputs": [
                {
                    "execution_count": 40, 
                    "metadata": {}, 
                    "data": {
                        "text/plain": "dict_keys(['id', 'name', 'contact', 'location', 'canonicalUrl', 'categories', 'verified', 'stats', 'url', 'likes', 'dislike', 'ok', 'rating', 'ratingColor', 'ratingSignals', 'beenHere', 'specials', 'photos', 'reasons', 'description', 'hereNow', 'createdAt', 'tips', 'shortUrl', 'timeZone', 'listed', 'popular', 'pageUpdates', 'inbox', 'attributes', 'bestPhoto', 'colors'])"
                    }, 
                    "output_type": "execute_result"
                }
            ], 
            "source": "tips2 = results4['response']['venue']\n\ntip2 = results4['response']['venue']\ntip2.keys()"
        }, 
        {
            "execution_count": null, 
            "cell_type": "code", 
            "metadata": {}, 
            "outputs": [], 
            "source": ""
        }
    ], 
    "metadata": {
        "kernelspec": {
            "display_name": "Python 3.6", 
            "name": "python3", 
            "language": "python"
        }, 
        "language_info": {
            "mimetype": "text/x-python", 
            "nbconvert_exporter": "python", 
            "version": "3.6.8", 
            "name": "python", 
            "file_extension": ".py", 
            "pygments_lexer": "ipython3", 
            "codemirror_mode": {
                "version": 3, 
                "name": "ipython"
            }
        }
    }, 
    "nbformat": 4
}